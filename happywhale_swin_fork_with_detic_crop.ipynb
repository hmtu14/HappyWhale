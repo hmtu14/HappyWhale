{
  "cells": [
    {
      "cell_type": "markdown",
      "metadata": {
        "id": "view-in-github",
        "colab_type": "text"
      },
      "source": [
        "<a href=\"https://colab.research.google.com/github/hmtu14/HappyWhale/blob/main/happywhale_swin_fork_with_detic_crop.ipynb\" target=\"_parent\"><img src=\"https://colab.research.google.com/assets/colab-badge.svg\" alt=\"Open In Colab\"/></a>"
      ]
    },
    {
      "cell_type": "markdown",
      "metadata": {
        "id": "uB5kDl5ylBnB"
      },
      "source": [
        "# Intro\n",
        "\n",
        "The goal of this notebook is to extend upon the work of [MANOJ PRABHAKAR](https://www.kaggle.com/manojprabhaakr) in the [EFFNET B6 WHALE COMP](https://www.kaggle.com/manojprabhaakr/effnet-b6-whale-comp), utilising the [Detic bounding boxes](https://www.kaggle.com/c/happy-whale-and-dolphin/discussion/305503) to precrop the images.\n",
        "\n",
        "I have created a new set of TFRecords which includes the bounding boxes in [this](https://www.kaggle.com/lextoumbourou/happywhale-tfrecords-with-bounding-boxes) repo.\n",
        "\n",
        "At the time of creation, this notebook achieves a top 100 score. Given there's still 2 months left in the competition and that this data is all publically available, I felt it to be reasonable to release."
      ]
    },
    {
      "cell_type": "code",
      "execution_count": null,
      "metadata": {
        "colab": {
          "base_uri": "https://localhost:8080/"
        },
        "id": "CBOuPkvqlBnD",
        "outputId": "db048e53-4aac-4855-a335-37f7292bfd92"
      },
      "outputs": [
        {
          "output_type": "stream",
          "name": "stdout",
          "text": [
            "Running on TPU  grpc://10.35.74.66:8470\n",
            "INFO:tensorflow:Deallocate tpu buffers before initializing tpu system.\n"
          ]
        },
        {
          "output_type": "stream",
          "name": "stderr",
          "text": [
            "INFO:tensorflow:Deallocate tpu buffers before initializing tpu system.\n"
          ]
        },
        {
          "output_type": "stream",
          "name": "stdout",
          "text": [
            "INFO:tensorflow:Initializing the TPU system: grpc://10.35.74.66:8470\n"
          ]
        },
        {
          "output_type": "stream",
          "name": "stderr",
          "text": [
            "INFO:tensorflow:Initializing the TPU system: grpc://10.35.74.66:8470\n"
          ]
        },
        {
          "output_type": "stream",
          "name": "stdout",
          "text": [
            "INFO:tensorflow:Finished initializing TPU system.\n"
          ]
        },
        {
          "output_type": "stream",
          "name": "stderr",
          "text": [
            "INFO:tensorflow:Finished initializing TPU system.\n"
          ]
        },
        {
          "output_type": "stream",
          "name": "stdout",
          "text": [
            "INFO:tensorflow:Found TPU system:\n"
          ]
        },
        {
          "output_type": "stream",
          "name": "stderr",
          "text": [
            "INFO:tensorflow:Found TPU system:\n"
          ]
        },
        {
          "output_type": "stream",
          "name": "stdout",
          "text": [
            "INFO:tensorflow:*** Num TPU Cores: 8\n"
          ]
        },
        {
          "output_type": "stream",
          "name": "stderr",
          "text": [
            "INFO:tensorflow:*** Num TPU Cores: 8\n"
          ]
        },
        {
          "output_type": "stream",
          "name": "stdout",
          "text": [
            "INFO:tensorflow:*** Num TPU Workers: 1\n"
          ]
        },
        {
          "output_type": "stream",
          "name": "stderr",
          "text": [
            "INFO:tensorflow:*** Num TPU Workers: 1\n"
          ]
        },
        {
          "output_type": "stream",
          "name": "stdout",
          "text": [
            "INFO:tensorflow:*** Num TPU Cores Per Worker: 8\n"
          ]
        },
        {
          "output_type": "stream",
          "name": "stderr",
          "text": [
            "INFO:tensorflow:*** Num TPU Cores Per Worker: 8\n"
          ]
        },
        {
          "output_type": "stream",
          "name": "stdout",
          "text": [
            "INFO:tensorflow:*** Available Device: _DeviceAttributes(/job:localhost/replica:0/task:0/device:CPU:0, CPU, 0, 0)\n"
          ]
        },
        {
          "output_type": "stream",
          "name": "stderr",
          "text": [
            "INFO:tensorflow:*** Available Device: _DeviceAttributes(/job:localhost/replica:0/task:0/device:CPU:0, CPU, 0, 0)\n"
          ]
        },
        {
          "output_type": "stream",
          "name": "stdout",
          "text": [
            "INFO:tensorflow:*** Available Device: _DeviceAttributes(/job:worker/replica:0/task:0/device:CPU:0, CPU, 0, 0)\n"
          ]
        },
        {
          "output_type": "stream",
          "name": "stderr",
          "text": [
            "INFO:tensorflow:*** Available Device: _DeviceAttributes(/job:worker/replica:0/task:0/device:CPU:0, CPU, 0, 0)\n"
          ]
        },
        {
          "output_type": "stream",
          "name": "stdout",
          "text": [
            "INFO:tensorflow:*** Available Device: _DeviceAttributes(/job:worker/replica:0/task:0/device:TPU:0, TPU, 0, 0)\n"
          ]
        },
        {
          "output_type": "stream",
          "name": "stderr",
          "text": [
            "INFO:tensorflow:*** Available Device: _DeviceAttributes(/job:worker/replica:0/task:0/device:TPU:0, TPU, 0, 0)\n"
          ]
        },
        {
          "output_type": "stream",
          "name": "stdout",
          "text": [
            "INFO:tensorflow:*** Available Device: _DeviceAttributes(/job:worker/replica:0/task:0/device:TPU:1, TPU, 0, 0)\n"
          ]
        },
        {
          "output_type": "stream",
          "name": "stderr",
          "text": [
            "INFO:tensorflow:*** Available Device: _DeviceAttributes(/job:worker/replica:0/task:0/device:TPU:1, TPU, 0, 0)\n"
          ]
        },
        {
          "output_type": "stream",
          "name": "stdout",
          "text": [
            "INFO:tensorflow:*** Available Device: _DeviceAttributes(/job:worker/replica:0/task:0/device:TPU:2, TPU, 0, 0)\n"
          ]
        },
        {
          "output_type": "stream",
          "name": "stderr",
          "text": [
            "INFO:tensorflow:*** Available Device: _DeviceAttributes(/job:worker/replica:0/task:0/device:TPU:2, TPU, 0, 0)\n"
          ]
        },
        {
          "output_type": "stream",
          "name": "stdout",
          "text": [
            "INFO:tensorflow:*** Available Device: _DeviceAttributes(/job:worker/replica:0/task:0/device:TPU:3, TPU, 0, 0)\n"
          ]
        },
        {
          "output_type": "stream",
          "name": "stderr",
          "text": [
            "INFO:tensorflow:*** Available Device: _DeviceAttributes(/job:worker/replica:0/task:0/device:TPU:3, TPU, 0, 0)\n"
          ]
        },
        {
          "output_type": "stream",
          "name": "stdout",
          "text": [
            "INFO:tensorflow:*** Available Device: _DeviceAttributes(/job:worker/replica:0/task:0/device:TPU:4, TPU, 0, 0)\n"
          ]
        },
        {
          "output_type": "stream",
          "name": "stderr",
          "text": [
            "INFO:tensorflow:*** Available Device: _DeviceAttributes(/job:worker/replica:0/task:0/device:TPU:4, TPU, 0, 0)\n"
          ]
        },
        {
          "output_type": "stream",
          "name": "stdout",
          "text": [
            "INFO:tensorflow:*** Available Device: _DeviceAttributes(/job:worker/replica:0/task:0/device:TPU:5, TPU, 0, 0)\n"
          ]
        },
        {
          "output_type": "stream",
          "name": "stderr",
          "text": [
            "INFO:tensorflow:*** Available Device: _DeviceAttributes(/job:worker/replica:0/task:0/device:TPU:5, TPU, 0, 0)\n"
          ]
        },
        {
          "output_type": "stream",
          "name": "stdout",
          "text": [
            "INFO:tensorflow:*** Available Device: _DeviceAttributes(/job:worker/replica:0/task:0/device:TPU:6, TPU, 0, 0)\n"
          ]
        },
        {
          "output_type": "stream",
          "name": "stderr",
          "text": [
            "INFO:tensorflow:*** Available Device: _DeviceAttributes(/job:worker/replica:0/task:0/device:TPU:6, TPU, 0, 0)\n"
          ]
        },
        {
          "output_type": "stream",
          "name": "stdout",
          "text": [
            "INFO:tensorflow:*** Available Device: _DeviceAttributes(/job:worker/replica:0/task:0/device:TPU:7, TPU, 0, 0)\n"
          ]
        },
        {
          "output_type": "stream",
          "name": "stderr",
          "text": [
            "INFO:tensorflow:*** Available Device: _DeviceAttributes(/job:worker/replica:0/task:0/device:TPU:7, TPU, 0, 0)\n"
          ]
        },
        {
          "output_type": "stream",
          "name": "stdout",
          "text": [
            "INFO:tensorflow:*** Available Device: _DeviceAttributes(/job:worker/replica:0/task:0/device:TPU_SYSTEM:0, TPU_SYSTEM, 0, 0)\n"
          ]
        },
        {
          "output_type": "stream",
          "name": "stderr",
          "text": [
            "INFO:tensorflow:*** Available Device: _DeviceAttributes(/job:worker/replica:0/task:0/device:TPU_SYSTEM:0, TPU_SYSTEM, 0, 0)\n"
          ]
        },
        {
          "output_type": "stream",
          "name": "stdout",
          "text": [
            "INFO:tensorflow:*** Available Device: _DeviceAttributes(/job:worker/replica:0/task:0/device:XLA_CPU:0, XLA_CPU, 0, 0)\n"
          ]
        },
        {
          "output_type": "stream",
          "name": "stderr",
          "text": [
            "INFO:tensorflow:*** Available Device: _DeviceAttributes(/job:worker/replica:0/task:0/device:XLA_CPU:0, XLA_CPU, 0, 0)\n"
          ]
        },
        {
          "output_type": "stream",
          "name": "stdout",
          "text": [
            "REPLICAS:  8\n"
          ]
        }
      ],
      "source": [
        "import tensorflow as tf\n",
        "try:\n",
        "    # TPU detection. No parameters necessary if TPU_NAME environment variable is\n",
        "    # set: this is always the case on Kaggle.\n",
        "    tpu = tf.distribute.cluster_resolver.TPUClusterResolver()\n",
        "    print('Running on TPU ', tpu.master())\n",
        "except ValueError:\n",
        "    tpu = None\n",
        "\n",
        "if tpu:\n",
        "    tf.config.experimental_connect_to_cluster(tpu)\n",
        "    tf.tpu.experimental.initialize_tpu_system(tpu)\n",
        "    strategy = tf.distribute.TPUStrategy(tpu)\n",
        "else:\n",
        "    # Default distribution strategy in Tensorflow. Works on CPU and single GPU.\n",
        "    strategy = tf.distribute.get_strategy()\n",
        "\n",
        "AUTO = tf.data.experimental.AUTOTUNE\n",
        "print(\"REPLICAS: \", strategy.num_replicas_in_sync)"
      ]
    },
    {
      "cell_type": "code",
      "execution_count": null,
      "metadata": {
        "colab": {
          "base_uri": "https://localhost:8080/"
        },
        "id": "iJ1rGiN9lBnE",
        "outputId": "7e303e23-3456-4729-909b-19c03b85b988"
      },
      "outputs": [
        {
          "output_type": "stream",
          "name": "stdout",
          "text": [
            "Requirement already satisfied: tensorflow_addons in /usr/local/lib/python3.7/dist-packages (0.16.1)\n",
            "Requirement already satisfied: typeguard>=2.7 in /usr/local/lib/python3.7/dist-packages (from tensorflow_addons) (2.7.1)\n"
          ]
        }
      ],
      "source": [
        "!pip install -q efficientnet\n",
        "!pip install tensorflow_addons\n",
        "import re\n",
        "import os\n",
        "import numpy as np\n",
        "import pandas as pd\n",
        "import random\n",
        "import math\n",
        "import tensorflow as tf\n",
        "import efficientnet.tfkeras as efn\n",
        "from sklearn import metrics\n",
        "from sklearn.model_selection import KFold, train_test_split\n",
        "from tensorflow.keras import backend as K\n",
        "import tensorflow_addons as tfa\n",
        "from tqdm.auto import tqdm\n",
        "import matplotlib.pyplot as plt\n",
        "import pickle\n",
        "import json\n",
        "import tensorflow_hub as tfhub\n",
        "from datetime import datetime\n",
        "import sys\n",
        "# !git clone https://github.com/rishigami/Swin-Transformer-TF.git\n",
        "\n"
      ]
    },
    {
      "cell_type": "code",
      "execution_count": null,
      "metadata": {
        "id": "rne3CS9QEkXo"
      },
      "outputs": [],
      "source": [
        "sys.path.append('/content/Swin-Transformer-TF/')\n",
        "from swintransformer import SwinTransformer\n",
        "\n"
      ]
    },
    {
      "cell_type": "markdown",
      "metadata": {
        "id": "k1Ui4mwplBnE"
      },
      "source": [
        "## Config"
      ]
    },
    {
      "cell_type": "code",
      "execution_count": null,
      "metadata": {
        "colab": {
          "base_uri": "https://localhost:8080/"
        },
        "id": "DYOO7crGlBnF",
        "outputId": "aca372b5-f82b-46f8-a3a6-7249dc149b42"
      },
      "outputs": [
        {
          "output_type": "stream",
          "name": "stdout",
          "text": [
            "20220302-100627\n"
          ]
        }
      ],
      "source": [
        "save_dir = '.'\n",
        "#EXPERIMENT = 0\n",
        "#EXPERIMENT = 1\n",
        "#EXPERIMENT = 2\n",
        "EXPERIMENT = 3\n",
        "#EXPERIMENT = 4\n",
        "\n",
        "run_ts = datetime.now().strftime('%Y%m%d-%H%M%S')\n",
        "print(run_ts)"
      ]
    },
    {
      "cell_type": "code",
      "execution_count": null,
      "metadata": {
        "id": "xaKpw9qOlBnF"
      },
      "outputs": [],
      "source": [
        "# GCS_DS_PATH=KaggleDatasets().get_gcs_path('happywhale-tfrecords-bb')\n",
        "GCS_DS_PATH=\"gs://kds-9691b52efea3e89fc168af7da0e277ce7fd34ad940dc3920824779be\""
      ]
    },
    {
      "cell_type": "code",
      "execution_count": null,
      "metadata": {
        "colab": {
          "base_uri": "https://localhost:8080/"
        },
        "id": "6qy_v4volBnF",
        "outputId": "e9130283-6554-436f-9483-3fbaa94378e3"
      },
      "outputs": [
        {
          "output_type": "stream",
          "name": "stdout",
          "text": [
            "True\n"
          ]
        }
      ],
      "source": [
        "class config:\n",
        "    \n",
        "    SEED = 42\n",
        "    FOLD_TO_RUN = EXPERIMENT\n",
        "    FOLDS = 5\n",
        "    DEBUG = False\n",
        "    EVALUATE = True\n",
        "    RESUME = False\n",
        "    RESUME_EPOCH = None\n",
        "    \n",
        "    \n",
        "    ### Dataset\n",
        "    BATCH_SIZE = 16 * strategy.num_replicas_in_sync\n",
        "    # TEST_BATCH_SIZE = 1\n",
        "    IMAGE_SIZE = 224\n",
        "    # IMAGE_SIZE = 600\n",
        "    N_CLASSES = 15587\n",
        "    \n",
        "    ### Model\n",
        "    # model_type = 'effnetv1'\n",
        "    model_type = \"swin\"\n",
        "    #EFF_NET = 6\n",
        "\n",
        "    SWIN_NET = \"swin_base_224\"\n",
        "    # swin_tiny_224\n",
        "    # swin_small_224\n",
        "    # swin_base_224\n",
        "    # swin_base_384\n",
        "    # swin_large_224\n",
        "    # swin_large_384\n",
        "    # EFF_NET = 5\n",
        "    # EFF_NETV2 = 's-21k-ft1k'\n",
        "    FREEZE_BATCH_NORM = False\n",
        "    head = 'arcface' \n",
        "    EPOCHS = 20\n",
        "    # EPOCHS = 1\n",
        "    LR = 0.001\n",
        "    message='baseline'\n",
        "    \n",
        "    ### Augmentations\n",
        "    CUTOUT = False\n",
        "    \n",
        "    ### Save-Directory\n",
        "    save_dir = save_dir\n",
        "    \n",
        "    ### Inference\n",
        "    KNN = 100\n",
        "    \n",
        "def count_data_items(filenames):\n",
        "    n = [int(re.compile(r\"-([0-9]*)\\.\").search(filename).group(1)) \n",
        "         for filename in filenames]\n",
        "    return np.sum(n)\n",
        "\n",
        "# Function to seed everything\n",
        "def seed_everything(seed):\n",
        "    random.seed(seed)\n",
        "    np.random.seed(seed)\n",
        "    os.environ['PYTHONHASHSEED'] = str(seed)\n",
        "    tf.random.set_seed(seed)\n",
        "    \n",
        "def is_interactive():\n",
        "    return 'runtime'    in get_ipython().config.IPKernelApp.connection_file\n",
        "IS_INTERACTIVE = is_interactive()\n",
        "print(IS_INTERACTIVE)"
      ]
    },
    {
      "cell_type": "code",
      "execution_count": null,
      "metadata": {
        "colab": {
          "base_uri": "https://localhost:8080/"
        },
        "id": "hmJ-iPxVlBnG",
        "outputId": "6934cd8e-cfc6-47b3-c84b-ebb539a850e6"
      },
      "outputs": [
        {
          "output_type": "stream",
          "name": "stdout",
          "text": [
            "swin_swin_base_224\n"
          ]
        }
      ],
      "source": [
        "MODEL_NAME = None\n",
        "if config.model_type == 'effnetv1':\n",
        "    MODEL_NAME = f'effnetv1_b{config.EFF_NET}'\n",
        "elif config.model_type == 'effnetv2':\n",
        "    MODEL_NAME = f'effnetv2_{config.EFF_NETV2}'\n",
        "elif config.model_type == \"swin\":\n",
        "    MODEL_NAME = f\"swin_{config.SWIN_NET}\"\n",
        "\n",
        "config.MODEL_NAME = MODEL_NAME\n",
        "print(MODEL_NAME)"
      ]
    },
    {
      "cell_type": "code",
      "execution_count": null,
      "metadata": {
        "id": "cHSmRioulBnG"
      },
      "outputs": [],
      "source": [
        "with open(config.save_dir+'/config.json', 'w') as fp:\n",
        "    json.dump({x:dict(config.__dict__)[x] for x in dict(config.__dict__) if not x.startswith('_')}, fp)"
      ]
    },
    {
      "cell_type": "code",
      "execution_count": null,
      "metadata": {
        "colab": {
          "base_uri": "https://localhost:8080/"
        },
        "id": "e3mR5hsXlBnG",
        "outputId": "822ad046-d210-455f-acab-fe5badbfc53d"
      },
      "outputs": [
        {
          "output_type": "stream",
          "name": "stdout",
          "text": [
            "gs://kds-9691b52efea3e89fc168af7da0e277ce7fd34ad940dc3920824779be\n",
            "10 10 51200 28160\n"
          ]
        }
      ],
      "source": [
        "train_files = np.sort(np.array(tf.io.gfile.glob(GCS_DS_PATH + '/happywhale-2022-train*.tfrec')))\n",
        "test_files = np.sort(np.array(tf.io.gfile.glob(GCS_DS_PATH + '/happywhale-2022-test*.tfrec')))\n",
        "print(GCS_DS_PATH)\n",
        "print(len(train_files),len(test_files),count_data_items(train_files),count_data_items(test_files))"
      ]
    },
    {
      "cell_type": "markdown",
      "metadata": {
        "id": "FdeRjnlmlBnG"
      },
      "source": [
        "## Data"
      ]
    },
    {
      "cell_type": "code",
      "execution_count": null,
      "metadata": {
        "id": "fkhHQVYLlBnH"
      },
      "outputs": [],
      "source": [
        "def arcface_format(posting_id, image, label_group, matches):\n",
        "    return posting_id, {'inp1': image, 'inp2': label_group}, label_group, matches\n",
        "\n",
        "def arcface_inference_format(posting_id, image, label_group, matches):\n",
        "    return image,posting_id\n",
        "\n",
        "def arcface_eval_format(posting_id, image, label_group, matches):\n",
        "    return image,label_group\n",
        "\n",
        "# Data augmentation function\n",
        "def data_augment(posting_id, image, label_group, matches):\n",
        "\n",
        "    ### CUTOUT\n",
        "    if tf.random.uniform([])>0.5 and config.CUTOUT:\n",
        "      N_CUTOUT = 6\n",
        "      for cutouts in range(N_CUTOUT):\n",
        "        if tf.random.uniform([])>0.5:\n",
        "           DIM = config.IMAGE_SIZE\n",
        "           CUTOUT_LENGTH = DIM//8\n",
        "           x1 = tf.cast( tf.random.uniform([],0,DIM-CUTOUT_LENGTH),tf.int32)\n",
        "           x2 = tf.cast( tf.random.uniform([],0,DIM-CUTOUT_LENGTH),tf.int32)\n",
        "           filter_ = tf.concat([tf.zeros((x1,CUTOUT_LENGTH)),tf.ones((CUTOUT_LENGTH,CUTOUT_LENGTH)),tf.zeros((DIM-x1-CUTOUT_LENGTH,CUTOUT_LENGTH))],axis=0)\n",
        "           filter_ = tf.concat([tf.zeros((DIM,x2)),filter_,tf.zeros((DIM,DIM-x2-CUTOUT_LENGTH))],axis=1)\n",
        "           cutout = tf.reshape(1-filter_,(DIM,DIM,1))\n",
        "           image = cutout*image\n",
        "\n",
        "    image = tf.image.random_flip_left_right(image)\n",
        "    # image = tf.image.random_flip_up_down(image)\n",
        "    image = tf.image.random_hue(image, 0.01)\n",
        "    image = tf.image.random_saturation(image, 0.70, 1.30)\n",
        "    image = tf.image.random_contrast(image, 0.80, 1.20)\n",
        "    image = tf.image.random_brightness(image, 0.10)\n",
        "    return posting_id, image, label_group, matches\n",
        "\n",
        "# Function to decode our images\n",
        "# Updated to include crops.\n",
        "def decode_image(image_data, box):\n",
        "    if box is not None and box[0] != -1:\n",
        "        left, top, right, bottom = box[0], box[1], box[2], box[3]\n",
        "        bbs = tf.convert_to_tensor([top, left, bottom - top, right - left])\n",
        "        image = tf.io.decode_and_crop_jpeg(image_data, bbs, channels=3)\n",
        "    else:\n",
        "        image = tf.image.decode_jpeg(image_data, channels = 3)\n",
        "\n",
        "    image = tf.image.resize(image, [config.IMAGE_SIZE,config.IMAGE_SIZE])\n",
        "    image = tf.cast(image, tf.float32) / 255.0\n",
        "    return image\n",
        "\n",
        "# This function parse our images and also get the target variable\n",
        "def read_labeled_tfrecord(example):\n",
        "    LABELED_TFREC_FORMAT = {\n",
        "        \"image_name\": tf.io.FixedLenFeature([], tf.string),\n",
        "        \"image\": tf.io.FixedLenFeature([], tf.string),\n",
        "        \"target\": tf.io.FixedLenFeature([], tf.int64),\n",
        "        'detic_box': tf.io.FixedLenFeature([4], tf.int64),\n",
        "         # 'yolov5_box': tf.io.FixedLenFeature([4], tf.int64),\n",
        "    }\n",
        "\n",
        "    example = tf.io.parse_single_example(example, LABELED_TFREC_FORMAT)\n",
        "    posting_id = example['image_name']\n",
        "    bb = tf.cast(example['detic_box'], tf.int32)\n",
        "    image = decode_image(example['image'], bb)\n",
        "#     label_group = tf.one_hot(tf.cast(example['label_group'], tf.int32), depth = N_CLASSES)\n",
        "    label_group = tf.cast(example['target'], tf.int32)\n",
        "#     matches = example['matches']\n",
        "    matches = 1\n",
        "    return posting_id, image, label_group, matches\n",
        "\n",
        "# This function loads TF Records and parse them into tensors\n",
        "def load_dataset(filenames, ordered = False):\n",
        "    \n",
        "    ignore_order = tf.data.Options()\n",
        "    if not ordered:\n",
        "        ignore_order.experimental_deterministic = False \n",
        "        \n",
        "    dataset = tf.data.TFRecordDataset(filenames, num_parallel_reads = AUTO)\n",
        "#     dataset = dataset.cache()\n",
        "    dataset = dataset.with_options(ignore_order)\n",
        "    dataset = dataset.map(read_labeled_tfrecord, num_parallel_calls = AUTO) \n",
        "    return dataset\n",
        "\n",
        "# This function is to get our training tensors\n",
        "def get_training_dataset(filenames, shuffle=2048):\n",
        "    dataset = load_dataset(filenames, ordered = False)\n",
        "    dataset = dataset.map(data_augment, num_parallel_calls = AUTO)\n",
        "    dataset = dataset.map(arcface_format, num_parallel_calls = AUTO)\n",
        "    dataset = dataset.map(lambda posting_id, image, label_group, matches: (image, label_group))\n",
        "    dataset = dataset.repeat()\n",
        "    if shuffle is not None:\n",
        "        dataset = dataset.shuffle(2048)\n",
        "    dataset = dataset.batch(config.BATCH_SIZE, drop_remainder=True)\n",
        "    dataset = dataset.prefetch(AUTO)\n",
        "    return dataset\n",
        "\n",
        "# This function is to get our training tensors\n",
        "def get_val_dataset(filenames):\n",
        "    dataset = load_dataset(filenames, ordered = True)\n",
        "    dataset = dataset.map(data_augment, num_parallel_calls = AUTO)\n",
        "    dataset = dataset.map(arcface_format, num_parallel_calls = AUTO)\n",
        "    dataset = dataset.map(lambda posting_id, image, label_group, matches: (image, label_group))\n",
        "    dataset = dataset.batch(config.BATCH_SIZE, drop_remainder=True)\n",
        "    dataset = dataset.prefetch(AUTO)\n",
        "    return dataset\n",
        "\n",
        "# This function is to get our training tensors\n",
        "def get_eval_dataset(filenames, get_targets = True):\n",
        "    dataset = load_dataset(filenames, ordered = True)\n",
        "    dataset = dataset.map(data_augment, num_parallel_calls = AUTO)\n",
        "    dataset = dataset.map(arcface_eval_format, num_parallel_calls = AUTO)\n",
        "    if not get_targets:\n",
        "        dataset = dataset.map(lambda image, target: image)\n",
        "    dataset = dataset.batch(config.BATCH_SIZE, drop_remainder=True)\n",
        "    dataset = dataset.prefetch(AUTO)\n",
        "    return dataset\n",
        "\n",
        "# This function is to get our training tensors\n",
        "def get_test_dataset(filenames, get_names = True):\n",
        "    dataset = load_dataset(filenames, ordered = True)\n",
        "    dataset = dataset.map(data_augment, num_parallel_calls = AUTO)\n",
        "    dataset = dataset.map(arcface_inference_format, num_parallel_calls = AUTO)\n",
        "    if not get_names:\n",
        "        dataset = dataset.map(lambda image, posting_id: image)\n",
        "    dataset = dataset.batch(config.BATCH_SIZE, drop_remainder=True)\n",
        "    dataset = dataset.prefetch(AUTO)\n",
        "    return dataset"
      ]
    },
    {
      "cell_type": "code",
      "execution_count": null,
      "metadata": {
        "colab": {
          "base_uri": "https://localhost:8080/"
        },
        "id": "bllBU1GllBnK",
        "outputId": "43626d04-4cc9-4edb-ea33-89cf41a4f536"
      },
      "outputs": [
        {
          "output_type": "stream",
          "name": "stdout",
          "text": [
            "51200\n",
            "28160\n"
          ]
        }
      ],
      "source": [
        "row = 10; col = 8;\n",
        "row = min(row,config.BATCH_SIZE//col)\n",
        "N_TRAIN = count_data_items(train_files)\n",
        "print(N_TRAIN)\n",
        "ds = get_training_dataset(train_files)\n",
        "\n",
        "# for (sample,label) in ds:\n",
        "#     img = sample['inp1']\n",
        "#     plt.figure(figsize=(25,int(25*row/col)))\n",
        "#     for j in range(row*col):\n",
        "#         plt.subplot(row,col,j+1)\n",
        "#         plt.title(label[j].numpy())\n",
        "#         plt.axis('off')\n",
        "#         plt.imshow(img[j,])\n",
        "#     plt.show()\n",
        "#     break\n",
        "# print(img.shape)\n",
        "\n",
        "row = 10; col = 8;\n",
        "row = min(row,config.BATCH_SIZE//col)\n",
        "N_TEST = count_data_items(test_files)\n",
        "print(N_TEST)\n",
        "ds = get_test_dataset(test_files)\n",
        "\n",
        "# for (img,label) in ds:\n",
        "#     plt.figure(figsize=(25,int(25*row/col)))\n",
        "#     for j in range(row*col):\n",
        "#         plt.subplot(row,col,j+1)\n",
        "#         plt.title(label[j].numpy())\n",
        "#         plt.axis('off')\n",
        "#         plt.imshow(img[j,])\n",
        "#     plt.show()\n",
        "#     break\n",
        "# print(img.shape)"
      ]
    },
    {
      "cell_type": "markdown",
      "metadata": {
        "id": "6xwxT80JlBnL"
      },
      "source": [
        "## Model"
      ]
    },
    {
      "cell_type": "code",
      "execution_count": null,
      "metadata": {
        "id": "XLvz37WYlBnL"
      },
      "outputs": [],
      "source": [
        "# Arcmarginproduct class keras layer\n",
        "class ArcMarginProduct(tf.keras.layers.Layer):\n",
        "    '''\n",
        "    Implements large margin arc distance.\n",
        "\n",
        "    Reference:\n",
        "        https://arxiv.org/pdf/1801.07698.pdf\n",
        "        https://github.com/lyakaap/Landmark2019-1st-and-3rd-Place-Solution/\n",
        "            blob/master/src/modeling/metric_learning.py\n",
        "    '''\n",
        "    def __init__(self, n_classes, s=30, m=0.50, easy_margin=False,\n",
        "                 ls_eps=0.0, **kwargs):\n",
        "\n",
        "        super(ArcMarginProduct, self).__init__(**kwargs)\n",
        "\n",
        "        self.n_classes = n_classes\n",
        "        self.s = s\n",
        "        self.m = m\n",
        "        self.ls_eps = ls_eps\n",
        "        self.easy_margin = easy_margin\n",
        "        self.cos_m = tf.math.cos(m)\n",
        "        self.sin_m = tf.math.sin(m)\n",
        "        self.th = tf.math.cos(math.pi - m)\n",
        "        self.mm = tf.math.sin(math.pi - m) * m\n",
        "\n",
        "    def get_config(self):\n",
        "\n",
        "        config = super().get_config().copy()\n",
        "        config.update({\n",
        "            'n_classes': self.n_classes,\n",
        "            's': self.s,\n",
        "            'm': self.m,\n",
        "            'ls_eps': self.ls_eps,\n",
        "            'easy_margin': self.easy_margin,\n",
        "        })\n",
        "        return config\n",
        "\n",
        "    def build(self, input_shape):\n",
        "        super(ArcMarginProduct, self).build(input_shape[0])\n",
        "\n",
        "        self.W = self.add_weight(\n",
        "            name='W',\n",
        "            shape=(int(input_shape[0][-1]), self.n_classes),\n",
        "            initializer='glorot_uniform',\n",
        "            dtype='float32',\n",
        "            trainable=True,\n",
        "            regularizer=None)\n",
        "\n",
        "    def call(self, inputs):\n",
        "        X, y = inputs\n",
        "        y = tf.cast(y, dtype=tf.int32)\n",
        "        cosine = tf.matmul(\n",
        "            tf.math.l2_normalize(X, axis=1),\n",
        "            tf.math.l2_normalize(self.W, axis=0)\n",
        "        )\n",
        "        sine = tf.math.sqrt(1.0 - tf.math.pow(cosine, 2))\n",
        "        phi = cosine * self.cos_m - sine * self.sin_m\n",
        "        if self.easy_margin:\n",
        "            phi = tf.where(cosine > 0, phi, cosine)\n",
        "        else:\n",
        "            phi = tf.where(cosine > self.th, phi, cosine - self.mm)\n",
        "        one_hot = tf.cast(\n",
        "            tf.one_hot(y, depth=self.n_classes),\n",
        "            dtype=cosine.dtype\n",
        "        )\n",
        "        if self.ls_eps > 0:\n",
        "            one_hot = (1 - self.ls_eps) * one_hot + self.ls_eps / self.n_classes\n",
        "\n",
        "        output = (one_hot * phi) + ((1.0 - one_hot) * cosine)\n",
        "        output *= self.s\n",
        "        return output"
      ]
    },
    {
      "cell_type": "code",
      "execution_count": null,
      "metadata": {
        "id": "uOt-9EfvlBnL"
      },
      "outputs": [],
      "source": [
        "\n",
        "EFNS = [efn.EfficientNetB0, efn.EfficientNetB1, efn.EfficientNetB2, efn.EfficientNetB3, \n",
        "        efn.EfficientNetB4, efn.EfficientNetB5, efn.EfficientNetB6, efn.EfficientNetB7]\n",
        "\n",
        "def freeze_BN(model):\n",
        "    # Unfreeze layers while leaving BatchNorm layers frozen\n",
        "    for layer in model.layers:\n",
        "        if not isinstance(layer, tf.keras.layers.BatchNormalization):\n",
        "            layer.trainable = True\n",
        "        else:\n",
        "            layer.trainable = False\n",
        "\n",
        "# Function to create our EfficientNetB3 model\n",
        "def get_model():\n",
        "\n",
        "    if config.head=='arcface':\n",
        "        head = ArcMarginProduct\n",
        "    else:\n",
        "        assert 1==2, \"INVALID HEAD\"\n",
        "    \n",
        "    with strategy.scope():\n",
        "        \n",
        "        margin = head(\n",
        "            n_classes = config.N_CLASSES, \n",
        "            s = 30,\n",
        "            m = 0.3,\n",
        "            name=f'head/{config.head}', \n",
        "            dtype='float32'\n",
        "            )\n",
        "\n",
        "        inp = tf.keras.layers.Input(shape = [config.IMAGE_SIZE, config.IMAGE_SIZE, 3], name = 'inp1')\n",
        "        label = tf.keras.layers.Input(shape = (), name = 'inp2')\n",
        "        \n",
        "        if config.model_type == 'effnetv1':\n",
        "            x = EFNS[config.EFF_NET](weights = 'noisy-student', include_top = False)(inp)\n",
        "            embed = tf.keras.layers.GlobalAveragePooling2D()(x)\n",
        "        elif config.model_type == 'effnetv2':\n",
        "            FEATURE_VECTOR = f'{EFFNETV2_ROOT}/tfhub_models/efficientnetv2-{config.EFF_NETV2}/feature_vector'\n",
        "            embed = tfhub.KerasLayer(FEATURE_VECTOR, trainable=True)(inp)\n",
        "        elif config.model_type == \"swin\":\n",
        "            x = SwinTransformer(config.SWIN_NET, include_top=False, pretrained=True, use_tpu=True)(inp)\n",
        "            embed = x\n",
        "            # embed = tf.keras.layers.GlobalAveragePooling2D()(x)\n",
        "            \n",
        "        embed = tf.keras.layers.Dropout(0.2)(embed)\n",
        "        embed = tf.keras.layers.Dense(512)(embed)\n",
        "        x = margin([embed, label])\n",
        "        \n",
        "        output = tf.keras.layers.Softmax(dtype='float32')(x)\n",
        "        \n",
        "        model = tf.keras.models.Model(inputs = [inp, label], outputs = [output])\n",
        "        embed_model = tf.keras.models.Model(inputs = inp, outputs = embed)  \n",
        "        \n",
        "        opt = tf.keras.optimizers.Adam(learning_rate = config.LR)\n",
        "        if config.FREEZE_BATCH_NORM:\n",
        "            freeze_BN(model)\n",
        "\n",
        "        model.compile(\n",
        "            optimizer = opt,\n",
        "            loss = [tf.keras.losses.SparseCategoricalCrossentropy()],\n",
        "            metrics = [tf.keras.metrics.SparseCategoricalAccuracy(),tf.keras.metrics.SparseTopKCategoricalAccuracy(k=5)]\n",
        "            ) \n",
        "        \n",
        "        return model,embed_model"
      ]
    },
    {
      "cell_type": "code",
      "execution_count": null,
      "metadata": {
        "colab": {
          "base_uri": "https://localhost:8080/",
          "height": 283
        },
        "id": "frdy2I9XlBnM",
        "outputId": "5fe6b0e5-bedc-473d-83c1-997fe026dcdf"
      },
      "outputs": [
        {
          "output_type": "display_data",
          "data": {
            "image/png": "[encoded data removed]",
            "text/plain": [
              "<Figure size 432x288 with 1 Axes>"
            ]
          },
          "metadata": {
            "needs_background": "light"
          }
        },
        {
          "output_type": "execute_result",
          "data": {
            "text/plain": [
              "<keras.callbacks.LearningRateScheduler at 0x7fbe09e6e0d0>"
            ]
          },
          "metadata": {},
          "execution_count": 14
        }
      ],
      "source": [
        "def get_lr_callback(plot=False):\n",
        "    lr_start   = 0.000001\n",
        "    lr_max     = 0.000005 * config.BATCH_SIZE  \n",
        "    lr_min     = 0.000001\n",
        "    lr_ramp_ep = 4\n",
        "    lr_sus_ep  = 0\n",
        "    lr_decay   = 0.9\n",
        "   \n",
        "    def lrfn(epoch):\n",
        "        if config.RESUME:\n",
        "            epoch = epoch + config.RESUME_EPOCH\n",
        "        if epoch < lr_ramp_ep:\n",
        "            lr = (lr_max - lr_start) / lr_ramp_ep * epoch + lr_start\n",
        "            \n",
        "        elif epoch < lr_ramp_ep + lr_sus_ep:\n",
        "            lr = lr_max\n",
        "            \n",
        "        else:\n",
        "            lr = (lr_max - lr_min) * lr_decay**(epoch - lr_ramp_ep - lr_sus_ep) + lr_min\n",
        "            \n",
        "        return lr\n",
        "        \n",
        "    if plot:\n",
        "        epochs = list(range(config.EPOCHS))\n",
        "        learning_rates = [lrfn(x) for x in epochs]\n",
        "        plt.scatter(epochs,learning_rates)\n",
        "        plt.show()\n",
        "\n",
        "    lr_callback = tf.keras.callbacks.LearningRateScheduler(lrfn, verbose=False)\n",
        "    return lr_callback\n",
        "\n",
        "get_lr_callback(plot=True)"
      ]
    },
    {
      "cell_type": "code",
      "execution_count": null,
      "metadata": {
        "id": "TuS6dYEnlBnM"
      },
      "outputs": [],
      "source": [
        "class Snapshot(tf.keras.callbacks.Callback):\n",
        "    \n",
        "    def __init__(self,fold,snapshot_epochs=[]):\n",
        "        super(Snapshot, self).__init__()\n",
        "        self.snapshot_epochs = snapshot_epochs\n",
        "        self.fold = fold\n",
        "        \n",
        "    def on_epoch_end(self, epoch, logs=None):\n",
        "        # logs is a dictionary\n",
        "#         print(f\"epoch: {epoch}, train_acc: {logs['acc']}, valid_acc: {logs['val_acc']}\")\n",
        "        if epoch in self.snapshot_epochs: # your custom condition         \n",
        "            self.model.save_weights(config.save_dir+f\"/EF{config.MODEL_NAME}_epoch{epoch}.h5\")\n",
        "        self.model.save_weights(config.save_dir+f\"/{config.MODEL_NAME}_last.h5\")"
      ]
    },
    {
      "cell_type": "markdown",
      "metadata": {
        "id": "hWbTjl_xlBnM"
      },
      "source": [
        "## Train"
      ]
    },
    {
      "cell_type": "code",
      "execution_count": null,
      "metadata": {
        "colab": {
          "base_uri": "https://localhost:8080/"
        },
        "id": "SF3sgQWLlBnM",
        "outputId": "4df93270-8bbb-40be-a386-0dd5ac102304"
      },
      "outputs": [
        {
          "output_type": "stream",
          "name": "stdout",
          "text": [
            "8 2 40960 10240\n"
          ]
        }
      ],
      "source": [
        "TRAINING_FILENAMES = [x for i,x in enumerate(train_files) if i%config.FOLDS!=config.FOLD_TO_RUN]\n",
        "VALIDATION_FILENAMES = [x for i,x in enumerate(train_files) if i%config.FOLDS==config.FOLD_TO_RUN]\n",
        "print(len(TRAINING_FILENAMES),len(VALIDATION_FILENAMES),count_data_items(TRAINING_FILENAMES),count_data_items(VALIDATION_FILENAMES))"
      ]
    },
    {
      "cell_type": "code",
      "execution_count": null,
      "metadata": {
        "id": "6wE7GgFylBnN"
      },
      "outputs": [],
      "source": [
        "if config.DEBUG:\n",
        "    TRAINING_FILENAMES = [TRAINING_FILENAMES[0]]\n",
        "    VALIDATION_FILENAMES = [VALIDATION_FILENAMES[0]]\n",
        "    print(len(TRAINING_FILENAMES),len(VALIDATION_FILENAMES),count_data_items(TRAINING_FILENAMES),count_data_items(VALIDATION_FILENAMES))\n",
        "    test_files = [test_files[0]]"
      ]
    },
    {
      "cell_type": "code",
      "execution_count": null,
      "metadata": {
        "colab": {
          "base_uri": "https://localhost:8080/"
        },
        "id": "S6Nso-T3lBnN",
        "outputId": "8898c7ae-d482-4c84-8c52-e0c5300ae36a"
      },
      "outputs": [
        {
          "output_type": "stream",
          "name": "stdout",
          "text": [
            "Model: \"model\"\n",
            "__________________________________________________________________________________________________\n",
            " Layer (type)                   Output Shape         Param #     Connected to                     \n",
            "==================================================================================================\n",
            " inp1 (InputLayer)              [(None, 224, 224, 3  0           []                               \n",
            "                                )]                                                                \n",
            "                                                                                                  \n",
            " swin_base_224 (SwinTransformer  (None, 1024)        87079364    ['inp1[0][0]']                   \n",
            " Model)                                                                                           \n",
            "                                                                                                  \n",
            " dropout_73 (Dropout)           (None, 1024)         0           ['swin_base_224[1][0]']          \n",
            "                                                                                                  \n",
            " dense (Dense)                  (None, 512)          524800      ['dropout_73[0][0]']             \n",
            "                                                                                                  \n",
            " inp2 (InputLayer)              [(None,)]            0           []                               \n",
            "                                                                                                  \n",
            " head/arcface (ArcMarginProduct  (None, 15587)       7980544     ['dense[0][0]',                  \n",
            " )                                                                'inp2[0][0]']                   \n",
            "                                                                                                  \n",
            " softmax (Softmax)              (None, 15587)        0           ['head/arcface[0][0]']           \n",
            "                                                                                                  \n",
            "==================================================================================================\n",
            "Total params: 95,584,708\n",
            "Trainable params: 95,248,568\n",
            "Non-trainable params: 336,140\n",
            "__________________________________________________________________________________________________\n"
          ]
        }
      ],
      "source": [
        "seed_everything(config.SEED)\n",
        "VERBOSE = 1\n",
        "train_dataset = get_training_dataset(TRAINING_FILENAMES)\n",
        "val_dataset = get_val_dataset(VALIDATION_FILENAMES)\n",
        "STEPS_PER_EPOCH = count_data_items(TRAINING_FILENAMES) // config.BATCH_SIZE\n",
        "# TEST_STEPS = -(-count_data_items(test_files) // BATCH_SIZE)             # The \"-(-//)\" trick rounds up instead of down :-)\n",
        "\n",
        "train_logger = tf.keras.callbacks.CSVLogger(config.save_dir+'/training-log-fold-%i.h5.csv'%config.FOLD_TO_RUN)\n",
        "# SAVE BEST MODEL EACH FOLD        \n",
        "sv_loss = tf.keras.callbacks.ModelCheckpoint(\n",
        "    config.save_dir+f\"/{config.MODEL_NAME}_loss.h5\", monitor='val_loss', verbose=0, save_best_only=True,\n",
        "    save_weights_only=True, mode='min', save_freq='epoch')\n",
        "# BUILD MODEL\n",
        "K.clear_session()\n",
        "model,embed_model = get_model()\n",
        "snap = Snapshot(fold=config.FOLD_TO_RUN,snapshot_epochs=[5,8])\n",
        "model.summary()\n",
        "\n",
        "if config.RESUME:\n",
        "    model.load_weights(config.resume_model_wts)"
      ]
    },
    {
      "cell_type": "code",
      "execution_count": null,
      "metadata": {
        "colab": {
          "base_uri": "https://localhost:8080/"
        },
        "id": "tZxgDCIHlBnN",
        "outputId": "29e47ce7-dfbb-40fb-cc37-fbba35ab0011"
      },
      "outputs": [
        {
          "output_type": "stream",
          "name": "stdout",
          "text": [
            "#### Image Size 224 with swin_swin_base_224 and batch_size 128\n",
            "Epoch 1/20\n",
            "320/320 [==============================] - 287s 456ms/step - loss: 19.2084 - sparse_categorical_accuracy: 0.0000e+00 - sparse_top_k_categorical_accuracy: 0.0000e+00 - val_loss: 19.0647 - val_sparse_categorical_accuracy: 0.0000e+00 - val_sparse_top_k_categorical_accuracy: 0.0000e+00 - lr: 1.0000e-06\n",
            "Epoch 2/20\n",
            "320/320 [==============================] - 125s 390ms/step - loss: 16.8953 - sparse_categorical_accuracy: 0.0028 - sparse_top_k_categorical_accuracy: 0.0038 - val_loss: 16.5356 - val_sparse_categorical_accuracy: 0.0072 - val_sparse_top_k_categorical_accuracy: 0.0104 - lr: 1.6075e-04\n",
            "Epoch 3/20\n",
            "320/320 [==============================] - 126s 393ms/step - loss: 14.9774 - sparse_categorical_accuracy: 0.0105 - sparse_top_k_categorical_accuracy: 0.0161 - val_loss: 15.2653 - val_sparse_categorical_accuracy: 0.0176 - val_sparse_top_k_categorical_accuracy: 0.0289 - lr: 3.2050e-04\n",
            "Epoch 4/20\n",
            "320/320 [==============================] - 125s 392ms/step - loss: 13.0143 - sparse_categorical_accuracy: 0.0238 - sparse_top_k_categorical_accuracy: 0.0381 - val_loss: 15.0013 - val_sparse_categorical_accuracy: 0.0301 - val_sparse_top_k_categorical_accuracy: 0.0513 - lr: 4.8025e-04\n",
            "Epoch 5/20\n",
            "320/320 [==============================] - 125s 391ms/step - loss: 11.1282 - sparse_categorical_accuracy: 0.0386 - sparse_top_k_categorical_accuracy: 0.0623 - val_loss: 14.9615 - val_sparse_categorical_accuracy: 0.0385 - val_sparse_top_k_categorical_accuracy: 0.0616 - lr: 6.4000e-04\n",
            "Epoch 6/20\n",
            "320/320 [==============================] - 125s 392ms/step - loss: 8.5360 - sparse_categorical_accuracy: 0.0752 - sparse_top_k_categorical_accuracy: 0.1234 - val_loss: 14.2393 - val_sparse_categorical_accuracy: 0.0638 - val_sparse_top_k_categorical_accuracy: 0.0990 - lr: 5.7610e-04\n",
            "Epoch 7/20\n",
            "320/320 [==============================] - 125s 390ms/step - loss: 6.2268 - sparse_categorical_accuracy: 0.1646 - sparse_top_k_categorical_accuracy: 0.2833 - val_loss: 13.7675 - val_sparse_categorical_accuracy: 0.0757 - val_sparse_top_k_categorical_accuracy: 0.1212 - lr: 5.1859e-04\n",
            "Epoch 8/20\n",
            "320/320 [==============================] - 125s 389ms/step - loss: 4.3594 - sparse_categorical_accuracy: 0.3280 - sparse_top_k_categorical_accuracy: 0.4955 - val_loss: 13.5428 - val_sparse_categorical_accuracy: 0.0992 - val_sparse_top_k_categorical_accuracy: 0.1520 - lr: 4.6683e-04\n",
            "Epoch 9/20\n",
            "320/320 [==============================] - 125s 389ms/step - loss: 3.0013 - sparse_categorical_accuracy: 0.4975 - sparse_top_k_categorical_accuracy: 0.6691 - val_loss: 13.3416 - val_sparse_categorical_accuracy: 0.1177 - val_sparse_top_k_categorical_accuracy: 0.1721 - lr: 4.2025e-04\n",
            "Epoch 10/20\n",
            "320/320 [==============================] - 124s 387ms/step - loss: 1.9902 - sparse_categorical_accuracy: 0.6431 - sparse_top_k_categorical_accuracy: 0.7976 - val_loss: 13.2599 - val_sparse_categorical_accuracy: 0.1329 - val_sparse_top_k_categorical_accuracy: 0.1880 - lr: 3.7832e-04\n",
            "Epoch 11/20\n",
            "320/320 [==============================] - 124s 387ms/step - loss: 1.2550 - sparse_categorical_accuracy: 0.7630 - sparse_top_k_categorical_accuracy: 0.8876 - val_loss: 13.1351 - val_sparse_categorical_accuracy: 0.1439 - val_sparse_top_k_categorical_accuracy: 0.2040 - lr: 3.4059e-04\n",
            "Epoch 12/20\n",
            "320/320 [==============================] - 122s 382ms/step - loss: 0.7764 - sparse_categorical_accuracy: 0.8502 - sparse_top_k_categorical_accuracy: 0.9442 - val_loss: 13.1287 - val_sparse_categorical_accuracy: 0.1568 - val_sparse_top_k_categorical_accuracy: 0.2169 - lr: 3.0663e-04\n",
            "Epoch 13/20\n",
            "320/320 [==============================] - 123s 385ms/step - loss: 0.4471 - sparse_categorical_accuracy: 0.9180 - sparse_top_k_categorical_accuracy: 0.9763 - val_loss: 13.0596 - val_sparse_categorical_accuracy: 0.1622 - val_sparse_top_k_categorical_accuracy: 0.2246 - lr: 2.7607e-04\n",
            "Epoch 14/20\n",
            "320/320 [==============================] - 123s 384ms/step - loss: 0.2797 - sparse_categorical_accuracy: 0.9518 - sparse_top_k_categorical_accuracy: 0.9895 - val_loss: 13.0820 - val_sparse_categorical_accuracy: 0.1617 - val_sparse_top_k_categorical_accuracy: 0.2256 - lr: 2.4856e-04\n",
            "Epoch 15/20\n",
            "320/320 [==============================] - 122s 383ms/step - loss: 0.1863 - sparse_categorical_accuracy: 0.9718 - sparse_top_k_categorical_accuracy: 0.9948 - val_loss: 12.9370 - val_sparse_categorical_accuracy: 0.1774 - val_sparse_top_k_categorical_accuracy: 0.2418 - lr: 2.2381e-04\n",
            "Epoch 16/20\n",
            "320/320 [==============================] - 123s 385ms/step - loss: 0.1213 - sparse_categorical_accuracy: 0.9833 - sparse_top_k_categorical_accuracy: 0.9981 - val_loss: 12.8444 - val_sparse_categorical_accuracy: 0.1887 - val_sparse_top_k_categorical_accuracy: 0.2502 - lr: 2.0152e-04\n",
            "Epoch 17/20\n",
            "320/320 [==============================] - 120s 375ms/step - loss: 0.0896 - sparse_categorical_accuracy: 0.9892 - sparse_top_k_categorical_accuracy: 0.9983 - val_loss: 12.8563 - val_sparse_categorical_accuracy: 0.1956 - val_sparse_top_k_categorical_accuracy: 0.2574 - lr: 1.8147e-04\n",
            "Epoch 18/20\n",
            "320/320 [==============================] - 120s 374ms/step - loss: 0.0786 - sparse_categorical_accuracy: 0.9900 - sparse_top_k_categorical_accuracy: 0.9989 - val_loss: 12.8544 - val_sparse_categorical_accuracy: 0.1951 - val_sparse_top_k_categorical_accuracy: 0.2596 - lr: 1.6343e-04\n",
            "Epoch 19/20\n",
            "320/320 [==============================] - 123s 385ms/step - loss: 0.0605 - sparse_categorical_accuracy: 0.9933 - sparse_top_k_categorical_accuracy: 0.9993 - val_loss: 12.8056 - val_sparse_categorical_accuracy: 0.1979 - val_sparse_top_k_categorical_accuracy: 0.2605 - lr: 1.4718e-04\n",
            "Epoch 20/20\n",
            "320/320 [==============================] - 120s 374ms/step - loss: 0.0503 - sparse_categorical_accuracy: 0.9951 - sparse_top_k_categorical_accuracy: 0.9995 - val_loss: 12.8063 - val_sparse_categorical_accuracy: 0.2013 - val_sparse_top_k_categorical_accuracy: 0.2661 - lr: 1.3256e-04\n"
          ]
        }
      ],
      "source": [
        "print(f'#### Image Size {config.IMAGE_SIZE} with {config.MODEL_NAME} and batch_size {config.BATCH_SIZE}')\n",
        "\n",
        "history = model.fit(train_dataset,\n",
        "                validation_data = val_dataset,\n",
        "                steps_per_epoch = STEPS_PER_EPOCH,\n",
        "                epochs = config.EPOCHS,\n",
        "                callbacks = [get_lr_callback(),train_logger,sv_loss],\n",
        "                verbose = VERBOSE)"
      ]
    },
    {
      "cell_type": "code",
      "execution_count": null,
      "metadata": {
        "colab": {
          "base_uri": "https://localhost:8080/",
          "height": 373
        },
        "id": "4W7VhQNunMH0",
        "outputId": "207306e0-9917-4181-91ac-ad02fec4a56b"
      },
      "outputs": [
        {
          "output_type": "stream",
          "name": "stdout",
          "text": [
            "Learning rate: [1e-06, 0.00016075, 0.0003205, 0.00048025, 0.00064, 0.0005761, 0.00051859, 0.000466831, 0.0004202479, 0.0003783231, 0.0003405908, 0.00030663173, 0.00027606855, 0.0002485617, 0.00022380552, 0.00020152498, 0.00018147247, 0.00016342523, 0.0001471827, 0.00013256443]\n"
          ]
        },
        {
          "output_type": "display_data",
          "data": {
            "image/png": "[encoded data removed]",
            "text/plain": [
              "<Figure size 1944x360 with 3 Axes>"
            ]
          },
          "metadata": {
            "needs_background": "light"
          }
        }
      ],
      "source": [
        "print('Learning rate:', history.history['lr'])\n",
        "n_col, n_row = 3, 1\n",
        "fig, axes = plt.subplots(n_row, n_col, figsize=(9*n_col, 5*n_row))\n",
        "for idx, (ax, name) in enumerate(zip(axes, ['loss', 'sparse_categorical_accuracy', 'sparse_top_k_categorical_accuracy'])):\n",
        "    ax.title.set_text(name)\n",
        "    ax.plot(history.history[name], label=name)\n",
        "    ax.plot(history.history['val_'+name], label='val_'+name)\n",
        "    ax.legend()"
      ]
    },
    {
      "cell_type": "code",
      "execution_count": null,
      "metadata": {
        "id": "7ZkHO0IslBnN"
      },
      "outputs": [],
      "source": [
        "model.load_weights(config.save_dir+f\"/{config.MODEL_NAME}_loss.h5\")"
      ]
    },
    {
      "cell_type": "markdown",
      "metadata": {
        "id": "D3lyhO_PlBnN"
      },
      "source": [
        "## Evaluation"
      ]
    },
    {
      "cell_type": "code",
      "execution_count": null,
      "metadata": {
        "id": "DXIJjLKElBnN"
      },
      "outputs": [],
      "source": [
        "def get_ids(filename):\n",
        "    ds = get_test_dataset([filename],get_names=True).map(lambda image, image_name: image_name).unbatch()\n",
        "    NUM_IMAGES = count_data_items([filename])\n",
        "    ids = next(iter(ds.batch(NUM_IMAGES))).numpy().astype('U')\n",
        "    return ids\n",
        "\n",
        "def get_targets(filename):\n",
        "    ds = get_eval_dataset([filename],get_targets=True).map(lambda image, target: target).unbatch()\n",
        "    NUM_IMAGES = count_data_items([filename])\n",
        "    ids = next(iter(ds.batch(NUM_IMAGES))).numpy()\n",
        "    return ids\n",
        "\n",
        "def get_embeddings(filename, steps=None):\n",
        "    ds = get_test_dataset([filename],get_names=False)\n",
        "    embeddings = embed_model.predict(ds, steps=steps, verbose=0)\n",
        "    return embeddings\n",
        "\n",
        "def get_predictions(test_df,threshold=0.2):\n",
        "    predictions = {}\n",
        "    for i,row in tqdm(test_df.iterrows()):\n",
        "        if row.image in predictions:\n",
        "            if len(predictions[row.image])==5:\n",
        "                continue\n",
        "            predictions[row.image].append(row.target)\n",
        "        elif row.confidence>threshold:\n",
        "            predictions[row.image] = [row.target,'new_individual']\n",
        "        else:\n",
        "            predictions[row.image] = ['new_individual',row.target]\n",
        "\n",
        "    for x in tqdm(predictions):\n",
        "        if len(predictions[x])<5:\n",
        "            remaining = [y for y in sample_list if y not in predictions]\n",
        "            predictions[x] = predictions[x]+remaining\n",
        "            predictions[x] = predictions[x][:5]\n",
        "        \n",
        "    return predictions\n",
        "\n",
        "def map_per_image(label, predictions):\n",
        "    \"\"\"Computes the precision score of one image.\n",
        "\n",
        "    Parameters\n",
        "    ----------\n",
        "    label : string\n",
        "            The true label of the image\n",
        "    predictions : list\n",
        "            A list of predicted elements (order does matter, 5 predictions allowed per image)\n",
        "\n",
        "    Returns\n",
        "    -------\n",
        "    score : double\n",
        "    \"\"\"\n",
        "    try:\n",
        "        return 1 / (predictions[:5].index(label) + 1)\n",
        "    except ValueError:\n",
        "        return 0.0\n",
        "    \n",
        "f = open ('/content/individual_ids.json', \"r\")\n",
        "target_encodings = json.loads(f.read())\n",
        "target_encodings = {target_encodings[x]:x for x in target_encodings}\n",
        "sample_list = ['938b7e931166', '5bf17305f073', '7593d2aee842', '7362d7a01d00','956562ff2888']"
      ]
    },
    {
      "cell_type": "code",
      "source": [
        "TRAINING_FILENAMES"
      ],
      "metadata": {
        "id": "OWPES_dnZG9v",
        "colab": {
          "base_uri": "https://localhost:8080/"
        },
        "outputId": "a8b12a81-d870-4144-da4f-8343bc781eb5"
      },
      "execution_count": null,
      "outputs": [
        {
          "output_type": "execute_result",
          "data": {
            "text/plain": [
              "['gs://kds-9691b52efea3e89fc168af7da0e277ce7fd34ad940dc3920824779be/happywhale-2022-train-0-5120.tfrec',\n",
              " 'gs://kds-9691b52efea3e89fc168af7da0e277ce7fd34ad940dc3920824779be/happywhale-2022-train-1-5120.tfrec',\n",
              " 'gs://kds-9691b52efea3e89fc168af7da0e277ce7fd34ad940dc3920824779be/happywhale-2022-train-2-5120.tfrec',\n",
              " 'gs://kds-9691b52efea3e89fc168af7da0e277ce7fd34ad940dc3920824779be/happywhale-2022-train-4-5120.tfrec',\n",
              " 'gs://kds-9691b52efea3e89fc168af7da0e277ce7fd34ad940dc3920824779be/happywhale-2022-train-5-5120.tfrec',\n",
              " 'gs://kds-9691b52efea3e89fc168af7da0e277ce7fd34ad940dc3920824779be/happywhale-2022-train-6-5120.tfrec',\n",
              " 'gs://kds-9691b52efea3e89fc168af7da0e277ce7fd34ad940dc3920824779be/happywhale-2022-train-7-5120.tfrec',\n",
              " 'gs://kds-9691b52efea3e89fc168af7da0e277ce7fd34ad940dc3920824779be/happywhale-2022-train-9-5120.tfrec']"
            ]
          },
          "metadata": {},
          "execution_count": 23
        }
      ]
    },
    {
      "cell_type": "code",
      "execution_count": null,
      "metadata": {
        "id": "Tv4W6CCtlBnO",
        "colab": {
          "base_uri": "https://localhost:8080/",
          "height": 49,
          "referenced_widgets": [
            "397778fd888948f59e0d6d36f14a0638",
            "6941458830304cfb9449a26e0c3c40ef",
            "126de2bdd14e4d1fb625f14d4e60bcc1",
            "ce2a93d951cc466fadb42d3ff552243e",
            "63e5783f10b24b1e9dbb34ede7d68ece",
            "d75e963ec5d24186b894a453f0b9d47d",
            "f4111ca64fc14f798218495a1540f936",
            "dcfe6e7c37ff432289fa7769b15bb721",
            "b7d14d04f8fc4745b180cd8d0b90eaa9",
            "37c8038bd3894281bea6db2c8d8126ed",
            "939008c64ca54103b141b3fa95a9e4b0"
          ]
        },
        "outputId": "524ac237-34e3-4aab-96d6-a90e72a8c5bd"
      },
      "outputs": [
        {
          "output_type": "display_data",
          "data": {
            "application/vnd.jupyter.widget-view+json": {
              "model_id": "397778fd888948f59e0d6d36f14a0638",
              "version_minor": 0,
              "version_major": 2
            },
            "text/plain": [
              "  0%|          | 0/8 [00:00<?, ?it/s]"
            ]
          },
          "metadata": {}
        }
      ],
      "source": [
        "train_targets = []\n",
        "train_embeddings = []\n",
        "for filename in tqdm(TRAINING_FILENAMES):\n",
        "    fold_idx = int(re.search(\"train-([0-9])\", filename)[1])\n",
        "    fold_actual_size = 5104 if fold_idx <= 2 else 5103\n",
        "    embeddings = get_embeddings(filename)[:fold_actual_size]\n",
        "    targets = get_targets(filename)[:fold_actual_size]\n",
        "    train_embeddings.append(embeddings)\n",
        "    train_targets.append(targets)\n",
        "train_embeddings = np.concatenate(train_embeddings)\n",
        "train_targets = np.concatenate(train_targets)"
      ]
    },
    {
      "cell_type": "code",
      "execution_count": null,
      "metadata": {
        "id": "0yFHoAM1lBnO"
      },
      "outputs": [],
      "source": [
        "from sklearn.neighbors import NearestNeighbors\n",
        "neigh = NearestNeighbors(n_neighbors=config.KNN,metric='cosine')\n",
        "neigh.fit(train_embeddings)"
      ]
    },
    {
      "cell_type": "code",
      "source": [
        "# test_ids = []\n",
        "# test_nn_distances = []\n",
        "# test_nn_idxs = []\n",
        "# val_targets = []\n",
        "# val_embeddings = []\n",
        "# for filename in tqdm(VALIDATION_FILENAMES):\n",
        "#     embeddings = get_embeddings(filename)\n",
        "#     targets = get_targets(filename)\n",
        "#     ids = get_ids(filename)\n",
        "#     distances,idxs = neigh.kneighbors(embeddings, config.KNN, return_distance=True)\n",
        "#     test_ids.append(ids)\n",
        "#     test_nn_idxs.append(idxs)\n",
        "#     test_nn_distances.append(distances)\n",
        "#     val_embeddings.append(embeddings)\n",
        "#     val_targets.append(targets)\n",
        "# test_nn_distances = np.concatenate(test_nn_distances)\n",
        "# test_nn_idxs = np.concatenate(test_nn_idxs)\n",
        "# test_ids = np.concatenate(test_ids)\n",
        "# val_embeddings = np.concatenate(val_embeddings)\n",
        "# val_targets = np.concatenate(val_targets)\n",
        "\n",
        "val_ids = []\n",
        "val_nn_distances = []\n",
        "val_nn_idxs = []\n",
        "val_targets = []\n",
        "val_embeddings = []\n",
        "for filename in tqdm(VALIDATION_FILENAMES):\n",
        "    fold_idx = int(re.search(\"train-([0-9])\", filename)[1])\n",
        "    fold_actual_size = 5104 if fold_idx <= 2 else 5103\n",
        "    embeddings = get_embeddings(filename)[:fold_actual_size]\n",
        "    targets = get_targets(filename)[:fold_actual_size]\n",
        "    ids = get_ids(filename)[:fold_actual_size]\n",
        "    distances,idxs = neigh.kneighbors(embeddings, config.KNN, return_distance=True)\n",
        "    val_ids.append(ids)\n",
        "    val_nn_idxs.append(idxs)\n",
        "    val_nn_distances.append(distances)\n",
        "    val_embeddings.append(embeddings)\n",
        "    val_targets.append(targets)\n",
        "val_nn_distances = np.concatenate(val_nn_distances)\n",
        "val_nn_idxs = np.concatenate(val_nn_idxs)\n",
        "val_ids = np.concatenate(val_ids)\n",
        "val_embeddings = np.concatenate(val_embeddings)\n",
        "val_targets = np.concatenate(val_targets)"
      ],
      "metadata": {
        "id": "tx6MsXe0rXEP"
      },
      "execution_count": null,
      "outputs": []
    },
    {
      "cell_type": "code",
      "execution_count": null,
      "metadata": {
        "id": "h7cQmihYlBnO"
      },
      "outputs": [],
      "source": [
        "# allowed_targets = set([target_encodings[x] for x in np.unique(train_targets)])\n",
        "# val_targets_df = pd.DataFrame(np.stack([test_ids,val_targets],axis=1),columns=['image','target'])\n",
        "# val_targets_df['target'] = val_targets_df['target'].astype(int).map(target_encodings)\n",
        "# val_targets_df.loc[~val_targets_df.target.isin(allowed_targets),'target'] = 'new_individual'\n",
        "# val_targets_df.target.value_counts()\n",
        "\n",
        "allowed_targets = set([target_encodings[x] for x in np.unique(train_targets)])\n",
        "val_targets_df = pd.DataFrame(np.stack([val_ids,val_targets],axis=1),columns=['image','target'])\n",
        "val_targets_df['target'] = val_targets_df['target'].astype(int).map(target_encodings)\n",
        "val_targets_df.loc[~val_targets_df.target.isin(allowed_targets),'target'] = 'new_individual'\n",
        "val_targets_df.target.value_counts()"
      ]
    },
    {
      "cell_type": "code",
      "execution_count": null,
      "metadata": {
        "id": "3lFAet12lBnO"
      },
      "outputs": [],
      "source": [
        "# test_df = []\n",
        "# for i in tqdm(range(len(test_ids))):\n",
        "#     id_ = test_ids[i]\n",
        "#     targets = train_targets[test_nn_idxs[i]]\n",
        "#     distances = test_nn_distances[i]\n",
        "#     subset_preds = pd.DataFrame(np.stack([targets,distances],axis=1),columns=['target','distances'])\n",
        "#     subset_preds['image'] = id_\n",
        "#     test_df.append(subset_preds)\n",
        "# test_df = pd.concat(test_df).reset_index(drop=True)\n",
        "# test_df['confidence'] = 1-test_df['distances']\n",
        "# test_df = test_df.groupby(['image','target']).confidence.max().reset_index()\n",
        "# test_df = test_df.sort_values('confidence',ascending=False).reset_index(drop=True)\n",
        "# test_df['target'] = test_df['target'].map(target_encodings)\n",
        "# test_df.to_csv('val_neighbors.csv')\n",
        "# test_df.image.value_counts().value_counts()\n",
        "\n",
        "val_df = []\n",
        "for i in tqdm(range(len(val_ids))):\n",
        "    id_ = val_ids[i]\n",
        "    targets = train_targets[val_nn_idxs[i]]\n",
        "    distances = val_nn_distances[i]\n",
        "    subset_preds = pd.DataFrame(np.stack([targets,distances],axis=1),columns=['target','distances'])\n",
        "    subset_preds['image'] = id_\n",
        "    val_df.append(subset_preds)\n",
        "val_df = pd.concat(val_df).reset_index(drop=True)\n",
        "val_df['confidence'] = 1-val_df['distances']\n",
        "val_df = val_df.groupby(['image','target']).confidence.max().reset_index()\n",
        "val_df = val_df.sort_values('confidence',ascending=False).reset_index(drop=True)\n",
        "val_df['target'] = val_df['target'].map(target_encodings)\n",
        "val_df.to_csv('val_neighbors.csv')\n",
        "val_df.image.value_counts().value_counts()"
      ]
    },
    {
      "cell_type": "code",
      "execution_count": null,
      "metadata": {
        "id": "N1uO9aFZlBnP"
      },
      "outputs": [],
      "source": [
        "# ## Compute CV\n",
        "# best_th = 0\n",
        "# best_cv = 0\n",
        "# for th in [0.1*x for x in range(11)]:\n",
        "#     all_preds = get_predictions(test_df,threshold=th)\n",
        "#     cv = 0\n",
        "#     for i,row in val_targets_df.iterrows():\n",
        "#         target = row.target\n",
        "#         preds = all_preds[row.image]\n",
        "#         val_targets_df.loc[i,th] = map_per_image(target,preds)\n",
        "#     cv = val_targets_df[th].mean()\n",
        "#     print(f\"CV at threshold {th}: {cv}\")\n",
        "#     if cv>best_cv:\n",
        "#         best_th = th\n",
        "#         best_cv = cv\n",
        "\n",
        "## Compute CV\n",
        "best_th = 0\n",
        "best_cv = 0\n",
        "for th in [0.1*x for x in range(11)]:\n",
        "    all_preds = get_predictions(val_df,threshold=th)\n",
        "    cv = 0\n",
        "    for i,row in val_targets_df.iterrows():\n",
        "        target = row.target\n",
        "        preds = all_preds[row.image]\n",
        "        val_targets_df.loc[i,th] = map_per_image(target,preds)\n",
        "    cv = val_targets_df[th].mean()\n",
        "    print(f\"CV at threshold {th}: {cv}\")\n",
        "    if cv>best_cv:\n",
        "        best_th = th\n",
        "        best_cv = cv"
      ]
    },
    {
      "cell_type": "code",
      "execution_count": null,
      "metadata": {
        "id": "yaZSpRjWlBnP",
        "colab": {
          "base_uri": "https://localhost:8080/",
          "height": 335
        },
        "outputId": "f000ca02-e5f6-4841-d732-ddf59ab1d41c"
      },
      "outputs": [
        {
          "output_type": "stream",
          "name": "stdout",
          "text": [
            "Best threshold 0.6000000000000001\n",
            "Best cv 0.5688189953622008\n"
          ]
        },
        {
          "output_type": "execute_result",
          "data": {
            "text/html": [
              "\n",
              "  <div id=\"df-4ea1f312-574b-46c9-a6ae-447ea517a40a\">\n",
              "    <div class=\"colab-df-container\">\n",
              "      <div>\n",
              "<style scoped>\n",
              "    .dataframe tbody tr th:only-of-type {\n",
              "        vertical-align: middle;\n",
              "    }\n",
              "\n",
              "    .dataframe tbody tr th {\n",
              "        vertical-align: top;\n",
              "    }\n",
              "\n",
              "    .dataframe thead th {\n",
              "        text-align: right;\n",
              "    }\n",
              "</style>\n",
              "<table border=\"1\" class=\"dataframe\">\n",
              "  <thead>\n",
              "    <tr style=\"text-align: right;\">\n",
              "      <th></th>\n",
              "      <th>0.0</th>\n",
              "      <th>0.1</th>\n",
              "      <th>0.2</th>\n",
              "      <th>0.30000000000000004</th>\n",
              "      <th>0.4</th>\n",
              "      <th>0.5</th>\n",
              "      <th>0.6000000000000001</th>\n",
              "      <th>0.7000000000000001</th>\n",
              "      <th>0.8</th>\n",
              "      <th>0.9</th>\n",
              "      <th>1.0</th>\n",
              "    </tr>\n",
              "  </thead>\n",
              "  <tbody>\n",
              "    <tr>\n",
              "      <th>count</th>\n",
              "      <td>10206.000000</td>\n",
              "      <td>10206.000000</td>\n",
              "      <td>10206.000000</td>\n",
              "      <td>10206.000000</td>\n",
              "      <td>10206.000000</td>\n",
              "      <td>10206.000000</td>\n",
              "      <td>10206.000000</td>\n",
              "      <td>10206.000000</td>\n",
              "      <td>10206.000000</td>\n",
              "      <td>10206.000000</td>\n",
              "      <td>10206.000000</td>\n",
              "    </tr>\n",
              "    <tr>\n",
              "      <th>mean</th>\n",
              "      <td>0.500624</td>\n",
              "      <td>0.500624</td>\n",
              "      <td>0.500624</td>\n",
              "      <td>0.500624</td>\n",
              "      <td>0.500624</td>\n",
              "      <td>0.522572</td>\n",
              "      <td>0.568819</td>\n",
              "      <td>0.552603</td>\n",
              "      <td>0.515615</td>\n",
              "      <td>0.474659</td>\n",
              "      <td>0.419495</td>\n",
              "    </tr>\n",
              "    <tr>\n",
              "      <th>std</th>\n",
              "      <td>0.422113</td>\n",
              "      <td>0.422113</td>\n",
              "      <td>0.422113</td>\n",
              "      <td>0.422113</td>\n",
              "      <td>0.422113</td>\n",
              "      <td>0.434333</td>\n",
              "      <td>0.455570</td>\n",
              "      <td>0.448781</td>\n",
              "      <td>0.430618</td>\n",
              "      <td>0.405652</td>\n",
              "      <td>0.362118</td>\n",
              "    </tr>\n",
              "    <tr>\n",
              "      <th>min</th>\n",
              "      <td>0.000000</td>\n",
              "      <td>0.000000</td>\n",
              "      <td>0.000000</td>\n",
              "      <td>0.000000</td>\n",
              "      <td>0.000000</td>\n",
              "      <td>0.000000</td>\n",
              "      <td>0.000000</td>\n",
              "      <td>0.000000</td>\n",
              "      <td>0.000000</td>\n",
              "      <td>0.000000</td>\n",
              "      <td>0.000000</td>\n",
              "    </tr>\n",
              "    <tr>\n",
              "      <th>25%</th>\n",
              "      <td>0.000000</td>\n",
              "      <td>0.000000</td>\n",
              "      <td>0.000000</td>\n",
              "      <td>0.000000</td>\n",
              "      <td>0.000000</td>\n",
              "      <td>0.000000</td>\n",
              "      <td>0.000000</td>\n",
              "      <td>0.000000</td>\n",
              "      <td>0.000000</td>\n",
              "      <td>0.000000</td>\n",
              "      <td>0.000000</td>\n",
              "    </tr>\n",
              "    <tr>\n",
              "      <th>50%</th>\n",
              "      <td>0.500000</td>\n",
              "      <td>0.500000</td>\n",
              "      <td>0.500000</td>\n",
              "      <td>0.500000</td>\n",
              "      <td>0.500000</td>\n",
              "      <td>0.500000</td>\n",
              "      <td>1.000000</td>\n",
              "      <td>0.500000</td>\n",
              "      <td>0.500000</td>\n",
              "      <td>0.500000</td>\n",
              "      <td>0.500000</td>\n",
              "    </tr>\n",
              "    <tr>\n",
              "      <th>75%</th>\n",
              "      <td>1.000000</td>\n",
              "      <td>1.000000</td>\n",
              "      <td>1.000000</td>\n",
              "      <td>1.000000</td>\n",
              "      <td>1.000000</td>\n",
              "      <td>1.000000</td>\n",
              "      <td>1.000000</td>\n",
              "      <td>1.000000</td>\n",
              "      <td>1.000000</td>\n",
              "      <td>1.000000</td>\n",
              "      <td>0.500000</td>\n",
              "    </tr>\n",
              "    <tr>\n",
              "      <th>max</th>\n",
              "      <td>1.000000</td>\n",
              "      <td>1.000000</td>\n",
              "      <td>1.000000</td>\n",
              "      <td>1.000000</td>\n",
              "      <td>1.000000</td>\n",
              "      <td>1.000000</td>\n",
              "      <td>1.000000</td>\n",
              "      <td>1.000000</td>\n",
              "      <td>1.000000</td>\n",
              "      <td>1.000000</td>\n",
              "      <td>1.000000</td>\n",
              "    </tr>\n",
              "  </tbody>\n",
              "</table>\n",
              "</div>\n",
              "      <button class=\"colab-df-convert\" onclick=\"convertToInteractive('df-4ea1f312-574b-46c9-a6ae-447ea517a40a')\"\n",
              "              title=\"Convert this dataframe to an interactive table.\"\n",
              "              style=\"display:none;\">\n",
              "        \n",
              "  <svg xmlns=\"http://www.w3.org/2000/svg\" height=\"24px\"viewBox=\"0 0 24 24\"\n",
              "       width=\"24px\">\n",
              "    <path d=\"M0 0h24v24H0V0z\" fill=\"none\"/>\n",
              "    <path d=\"M18.56 5.44l.94 2.06.94-2.06 2.06-.94-2.06-.94-.94-2.06-.94 2.06-2.06.94zm-11 1L8.5 8.5l.94-2.06 2.06-.94-2.06-.94L8.5 2.5l-.94 2.06-2.06.94zm10 10l.94 2.06.94-2.06 2.06-.94-2.06-.94-.94-2.06-.94 2.06-2.06.94z\"/><path d=\"M17.41 7.96l-1.37-1.37c-.4-.4-.92-.59-1.43-.59-.52 0-1.04.2-1.43.59L10.3 9.45l-7.72 7.72c-.78.78-.78 2.05 0 2.83L4 21.41c.39.39.9.59 1.41.59.51 0 1.02-.2 1.41-.59l7.78-7.78 2.81-2.81c.8-.78.8-2.07 0-2.86zM5.41 20L4 18.59l7.72-7.72 1.47 1.35L5.41 20z\"/>\n",
              "  </svg>\n",
              "      </button>\n",
              "      \n",
              "  <style>\n",
              "    .colab-df-container {\n",
              "      display:flex;\n",
              "      flex-wrap:wrap;\n",
              "      gap: 12px;\n",
              "    }\n",
              "\n",
              "    .colab-df-convert {\n",
              "      background-color: #E8F0FE;\n",
              "      border: none;\n",
              "      border-radius: 50%;\n",
              "      cursor: pointer;\n",
              "      display: none;\n",
              "      fill: #1967D2;\n",
              "      height: 32px;\n",
              "      padding: 0 0 0 0;\n",
              "      width: 32px;\n",
              "    }\n",
              "\n",
              "    .colab-df-convert:hover {\n",
              "      background-color: #E2EBFA;\n",
              "      box-shadow: 0px 1px 2px rgba(60, 64, 67, 0.3), 0px 1px 3px 1px rgba(60, 64, 67, 0.15);\n",
              "      fill: #174EA6;\n",
              "    }\n",
              "\n",
              "    [theme=dark] .colab-df-convert {\n",
              "      background-color: #3B4455;\n",
              "      fill: #D2E3FC;\n",
              "    }\n",
              "\n",
              "    [theme=dark] .colab-df-convert:hover {\n",
              "      background-color: #434B5C;\n",
              "      box-shadow: 0px 1px 3px 1px rgba(0, 0, 0, 0.15);\n",
              "      filter: drop-shadow(0px 1px 2px rgba(0, 0, 0, 0.3));\n",
              "      fill: #FFFFFF;\n",
              "    }\n",
              "  </style>\n",
              "\n",
              "      <script>\n",
              "        const buttonEl =\n",
              "          document.querySelector('#df-4ea1f312-574b-46c9-a6ae-447ea517a40a button.colab-df-convert');\n",
              "        buttonEl.style.display =\n",
              "          google.colab.kernel.accessAllowed ? 'block' : 'none';\n",
              "\n",
              "        async function convertToInteractive(key) {\n",
              "          const element = document.querySelector('#df-4ea1f312-574b-46c9-a6ae-447ea517a40a');\n",
              "          const dataTable =\n",
              "            await google.colab.kernel.invokeFunction('convertToInteractive',\n",
              "                                                     [key], {});\n",
              "          if (!dataTable) return;\n",
              "\n",
              "          const docLinkHtml = 'Like what you see? Visit the ' +\n",
              "            '<a target=\"_blank\" href=https://colab.research.google.com/notebooks/data_table.ipynb>data table notebook</a>'\n",
              "            + ' to learn more about interactive tables.';\n",
              "          element.innerHTML = '';\n",
              "          dataTable['output_type'] = 'display_data';\n",
              "          await google.colab.output.renderOutput(dataTable, element);\n",
              "          const docLink = document.createElement('div');\n",
              "          docLink.innerHTML = docLinkHtml;\n",
              "          element.appendChild(docLink);\n",
              "        }\n",
              "      </script>\n",
              "    </div>\n",
              "  </div>\n",
              "  "
            ],
            "text/plain": [
              "                0.0           0.1  ...           0.9           1.0\n",
              "count  10206.000000  10206.000000  ...  10206.000000  10206.000000\n",
              "mean       0.500624      0.500624  ...      0.474659      0.419495\n",
              "std        0.422113      0.422113  ...      0.405652      0.362118\n",
              "min        0.000000      0.000000  ...      0.000000      0.000000\n",
              "25%        0.000000      0.000000  ...      0.000000      0.000000\n",
              "50%        0.500000      0.500000  ...      0.500000      0.500000\n",
              "75%        1.000000      1.000000  ...      1.000000      0.500000\n",
              "max        1.000000      1.000000  ...      1.000000      1.000000\n",
              "\n",
              "[8 rows x 11 columns]"
            ]
          },
          "metadata": {},
          "execution_count": 30
        }
      ],
      "source": [
        "print(\"Best threshold\",best_th)\n",
        "print(\"Best cv\",best_cv)\n",
        "val_targets_df.describe()"
      ]
    },
    {
      "cell_type": "code",
      "execution_count": null,
      "metadata": {
        "id": "i1PlfufdlBnP"
      },
      "outputs": [],
      "source": [
        "## Adjustment: Since Public lb has nearly 10% 'new_individual' (Be Careful for private LB)\n",
        "val_targets_df['is_new_individual'] = val_targets_df.target=='new_individual'\n",
        "print(val_targets_df.is_new_individual.value_counts().to_dict())\n",
        "val_scores = val_targets_df.groupby('is_new_individual').mean().T\n",
        "val_scores['adjusted_cv'] = val_scores[True]*0.1+val_scores[False]*0.9\n",
        "best_threshold_adjusted = val_scores['adjusted_cv'].idxmax()\n",
        "print(\"best_threshold\",best_threshold_adjusted)\n",
        "val_scores"
      ]
    },
    {
      "cell_type": "markdown",
      "metadata": {
        "id": "6aGN1hi8lBnP"
      },
      "source": [
        "## Inference"
      ]
    },
    {
      "cell_type": "code",
      "execution_count": null,
      "metadata": {
        "id": "8GNCYQdtlBnP"
      },
      "outputs": [],
      "source": [
        "train_embeddings = np.concatenate([train_embeddings,val_embeddings])\n",
        "train_targets = np.concatenate([train_targets,val_targets])\n",
        "print(train_embeddings.shape,train_targets.shape)"
      ]
    },
    {
      "cell_type": "code",
      "execution_count": null,
      "metadata": {
        "id": "Hx4latTYlBnP"
      },
      "outputs": [],
      "source": [
        "from sklearn.neighbors import NearestNeighbors\n",
        "neigh = NearestNeighbors(n_neighbors=config.KNN,metric='cosine')\n",
        "neigh.fit(train_embeddings)"
      ]
    },
    {
      "cell_type": "code",
      "execution_count": null,
      "metadata": {
        "id": "0hOKZuc5lBnP"
      },
      "outputs": [],
      "source": [
        "test_ids = []\n",
        "test_nn_distances = []\n",
        "test_nn_idxs = []\n",
        "for filename in tqdm(test_files):\n",
        "    fold_idx = int(re.search(\"test-([0-9])\", filename)[1])\n",
        "    fold_actual_size = 2796 if fold_idx <= 5 else 2795\n",
        "    embeddings = get_embeddings(filename)[:fold_actual_size]\n",
        "    ids = get_ids(filename)[:fold_actual_size]\n",
        "    distances,idxs = neigh.kneighbors(embeddings, config.KNN, return_distance=True)\n",
        "    test_ids.append(ids)\n",
        "    test_nn_idxs.append(idxs)\n",
        "    test_nn_distances.append(distances)\n",
        "test_nn_distances = np.concatenate(test_nn_distances)\n",
        "test_nn_idxs = np.concatenate(test_nn_idxs)\n",
        "test_ids = np.concatenate(test_ids)"
      ]
    },
    {
      "cell_type": "code",
      "source": [
        "# ds = get_test_dataset(test_files[0])\n",
        "\n",
        "# # for (sample,label) in ds:\n",
        "# #     img = sample['inp1']\n",
        "# #     plt.figure(figsize=(25,int(25*row/col)))\n",
        "# #     for j in range(row*col):\n",
        "# #         plt.subplot(row,col,j+1)\n",
        "# #         plt.title(label[j].numpy())\n",
        "# #         plt.axis('off')\n",
        "# #         plt.imshow(img[j,])\n",
        "# #     plt.show()\n",
        "# #     break\n",
        "# # print(img.shape)"
      ],
      "metadata": {
        "id": "O7fbZl1F_4zo"
      },
      "execution_count": null,
      "outputs": []
    },
    {
      "cell_type": "code",
      "execution_count": null,
      "metadata": {
        "id": "4Sinsd0JlBnQ",
        "colab": {
          "base_uri": "https://localhost:8080/",
          "height": 275,
          "referenced_widgets": [
            "a7f537da2d3e42d1b905f0f7059dbb9c",
            "54efffb3da354137b152989e9126a699",
            "4cb33652f92f4c0e8eb23765c3787cde",
            "002c66786719420f823a94559be6bdf1",
            "70b98497644640e388dbb5d0fb3b58ac",
            "fb46f29f26d44675bad5679299ef745e",
            "fc4f41526d9745b0a91ff2cadb672b72",
            "f5423831fd2242d09903ff9bb875e041",
            "cfa03a70112b432d99aa2eeb271e685a",
            "c5e4c51dbfcb49a2be7a54ddc80e1658",
            "f5ad0125beb84f95a1083c5118835e18"
          ]
        },
        "outputId": "1cd3722e-a46d-4c9b-b603-71875851918b"
      },
      "outputs": [
        {
          "output_type": "stream",
          "name": "stdout",
          "text": [
            "27956 27956\n"
          ]
        },
        {
          "output_type": "display_data",
          "data": {
            "application/vnd.jupyter.widget-view+json": {
              "model_id": "a7f537da2d3e42d1b905f0f7059dbb9c",
              "version_minor": 0,
              "version_major": 2
            },
            "text/plain": [
              "  0%|          | 0/27956 [00:00<?, ?it/s]"
            ]
          },
          "metadata": {}
        },
        {
          "output_type": "execute_result",
          "data": {
            "text/plain": [
              "40     426\n",
              "27     422\n",
              "39     422\n",
              "49     422\n",
              "33     420\n",
              "      ... \n",
              "96      62\n",
              "98      37\n",
              "97      34\n",
              "99      19\n",
              "100      7\n",
              "Name: image, Length: 100, dtype: int64"
            ]
          },
          "metadata": {},
          "execution_count": 36
        }
      ],
      "source": [
        "sample_submission = pd.read_csv('/content/sample_submission.csv',index_col='image')\n",
        "print(len(test_ids),len(sample_submission))\n",
        "test_df = []\n",
        "for i in tqdm(range(len(test_ids))):\n",
        "    id_ = test_ids[i]\n",
        "    targets = train_targets[test_nn_idxs[i]]\n",
        "    distances = test_nn_distances[i]\n",
        "    subset_preds = pd.DataFrame(np.stack([targets,distances],axis=1),columns=['target','distances'])\n",
        "    subset_preds['image'] = id_\n",
        "    test_df.append(subset_preds)\n",
        "test_df = pd.concat(test_df).reset_index(drop=True)\n",
        "test_df['confidence'] = 1-test_df['distances']\n",
        "test_df = test_df.groupby(['image','target']).confidence.max().reset_index()\n",
        "test_df = test_df.sort_values('confidence',ascending=False).reset_index(drop=True)\n",
        "test_df['target'] = test_df['target'].map(target_encodings)\n",
        "test_df.to_csv('test_neighbors.csv')\n",
        "test_df.image.value_counts().value_counts()"
      ]
    },
    {
      "cell_type": "code",
      "execution_count": null,
      "metadata": {
        "id": "YDvfAIh9lBnQ"
      },
      "outputs": [],
      "source": [
        "sample_list = ['938b7e931166', '5bf17305f073', '7593d2aee842', '7362d7a01d00','956562ff2888']"
      ]
    },
    {
      "cell_type": "code",
      "execution_count": null,
      "metadata": {
        "id": "H4ayXcexlBnQ"
      },
      "outputs": [],
      "source": [
        "predictions = {}\n",
        "for i,row in tqdm(test_df.iterrows()):\n",
        "    if row.image in predictions:\n",
        "        if len(predictions[row.image])==5:\n",
        "            continue\n",
        "        predictions[row.image].append(row.target)\n",
        "    elif row.confidence>best_threshold_adjusted:\n",
        "        predictions[row.image] = [row.target,'new_individual']\n",
        "    else:\n",
        "        predictions[row.image] = ['new_individual',row.target]\n",
        "        \n",
        "for x in tqdm(predictions):\n",
        "    if len(predictions[x])<5:\n",
        "        remaining = [y for y in sample_list if y not in predictions]\n",
        "        predictions[x] = predictions[x]+remaining\n",
        "        predictions[x] = predictions[x][:5]\n",
        "    predictions[x] = ' '.join(predictions[x])\n",
        "    \n",
        "predictions = pd.Series(predictions).reset_index()\n",
        "predictions.columns = ['image','predictions']\n",
        "predictions.to_csv('submission.csv',index=False)\n",
        "predictions.head()"
      ]
    },
    {
      "cell_type": "code",
      "execution_count": null,
      "metadata": {
        "id": "DBjK0JzKTb27"
      },
      "outputs": [],
      "source": [
        ""
      ]
    },
    {
      "cell_type": "code",
      "execution_count": null,
      "metadata": {
        "id": "OyHikdNKdnDQ"
      },
      "outputs": [],
      "source": [
        ""
      ]
    }
  ],
  "metadata": {
    "accelerator": "TPU",
    "colab": {
      "collapsed_sections": [],
      "name": "happywhale-swin-fork-with-detic-crop.ipynb",
      "provenance": [],
      "include_colab_link": true
    },
    "kernelspec": {
      "display_name": "Python 3",
      "language": "python",
      "name": "python3"
    },
    "language_info": {
      "codemirror_mode": {
        "name": "ipython",
        "version": 3
      },
      "file_extension": ".py",
      "mimetype": "text/x-python",
      "name": "python",
      "nbconvert_exporter": "python",
      "pygments_lexer": "ipython3",
      "version": "3.6.4"
    },
    "widgets": {
      "application/vnd.jupyter.widget-state+json": {
        "397778fd888948f59e0d6d36f14a0638": {
          "model_module": "@jupyter-widgets/controls",
          "model_name": "HBoxModel",
          "model_module_version": "1.5.0",
          "state": {
            "_view_name": "HBoxView",
            "_dom_classes": [],
            "_model_name": "HBoxModel",
            "_view_module": "@jupyter-widgets/controls",
            "_model_module_version": "1.5.0",
            "_view_count": null,
            "_view_module_version": "1.5.0",
            "box_style": "",
            "layout": "IPY_MODEL_6941458830304cfb9449a26e0c3c40ef",
            "_model_module": "@jupyter-widgets/controls",
            "children": [
              "IPY_MODEL_126de2bdd14e4d1fb625f14d4e60bcc1",
              "IPY_MODEL_ce2a93d951cc466fadb42d3ff552243e",
              "IPY_MODEL_63e5783f10b24b1e9dbb34ede7d68ece"
            ]
          }
        },
        "6941458830304cfb9449a26e0c3c40ef": {
          "model_module": "@jupyter-widgets/base",
          "model_name": "LayoutModel",
          "model_module_version": "1.2.0",
          "state": {
            "_view_name": "LayoutView",
            "grid_template_rows": null,
            "right": null,
            "justify_content": null,
            "_view_module": "@jupyter-widgets/base",
            "overflow": null,
            "_model_module_version": "1.2.0",
            "_view_count": null,
            "flex_flow": null,
            "width": null,
            "min_width": null,
            "border": null,
            "align_items": null,
            "bottom": null,
            "_model_module": "@jupyter-widgets/base",
            "top": null,
            "grid_column": null,
            "overflow_y": null,
            "overflow_x": null,
            "grid_auto_flow": null,
            "grid_area": null,
            "grid_template_columns": null,
            "flex": null,
            "_model_name": "LayoutModel",
            "justify_items": null,
            "grid_row": null,
            "max_height": null,
            "align_content": null,
            "visibility": null,
            "align_self": null,
            "height": null,
            "min_height": null,
            "padding": null,
            "grid_auto_rows": null,
            "grid_gap": null,
            "max_width": null,
            "order": null,
            "_view_module_version": "1.2.0",
            "grid_template_areas": null,
            "object_position": null,
            "object_fit": null,
            "grid_auto_columns": null,
            "margin": null,
            "display": null,
            "left": null
          }
        },
        "126de2bdd14e4d1fb625f14d4e60bcc1": {
          "model_module": "@jupyter-widgets/controls",
          "model_name": "HTMLModel",
          "model_module_version": "1.5.0",
          "state": {
            "_view_name": "HTMLView",
            "style": "IPY_MODEL_d75e963ec5d24186b894a453f0b9d47d",
            "_dom_classes": [],
            "description": "",
            "_model_name": "HTMLModel",
            "placeholder": "​",
            "_view_module": "@jupyter-widgets/controls",
            "_model_module_version": "1.5.0",
            "value": "100%",
            "_view_count": null,
            "_view_module_version": "1.5.0",
            "description_tooltip": null,
            "_model_module": "@jupyter-widgets/controls",
            "layout": "IPY_MODEL_f4111ca64fc14f798218495a1540f936"
          }
        },
        "ce2a93d951cc466fadb42d3ff552243e": {
          "model_module": "@jupyter-widgets/controls",
          "model_name": "FloatProgressModel",
          "model_module_version": "1.5.0",
          "state": {
            "_view_name": "ProgressView",
            "style": "IPY_MODEL_dcfe6e7c37ff432289fa7769b15bb721",
            "_dom_classes": [],
            "description": "",
            "_model_name": "FloatProgressModel",
            "bar_style": "success",
            "max": 8,
            "_view_module": "@jupyter-widgets/controls",
            "_model_module_version": "1.5.0",
            "value": 8,
            "_view_count": null,
            "_view_module_version": "1.5.0",
            "orientation": "horizontal",
            "min": 0,
            "description_tooltip": null,
            "_model_module": "@jupyter-widgets/controls",
            "layout": "IPY_MODEL_b7d14d04f8fc4745b180cd8d0b90eaa9"
          }
        },
        "63e5783f10b24b1e9dbb34ede7d68ece": {
          "model_module": "@jupyter-widgets/controls",
          "model_name": "HTMLModel",
          "model_module_version": "1.5.0",
          "state": {
            "_view_name": "HTMLView",
            "style": "IPY_MODEL_37c8038bd3894281bea6db2c8d8126ed",
            "_dom_classes": [],
            "description": "",
            "_model_name": "HTMLModel",
            "placeholder": "​",
            "_view_module": "@jupyter-widgets/controls",
            "_model_module_version": "1.5.0",
            "value": " 8/8 [02:17&lt;00:00, 13.94s/it]",
            "_view_count": null,
            "_view_module_version": "1.5.0",
            "description_tooltip": null,
            "_model_module": "@jupyter-widgets/controls",
            "layout": "IPY_MODEL_939008c64ca54103b141b3fa95a9e4b0"
          }
        },
        "d75e963ec5d24186b894a453f0b9d47d": {
          "model_module": "@jupyter-widgets/controls",
          "model_name": "DescriptionStyleModel",
          "model_module_version": "1.5.0",
          "state": {
            "_view_name": "StyleView",
            "_model_name": "DescriptionStyleModel",
            "description_width": "",
            "_view_module": "@jupyter-widgets/base",
            "_model_module_version": "1.5.0",
            "_view_count": null,
            "_view_module_version": "1.2.0",
            "_model_module": "@jupyter-widgets/controls"
          }
        },
        "f4111ca64fc14f798218495a1540f936": {
          "model_module": "@jupyter-widgets/base",
          "model_name": "LayoutModel",
          "model_module_version": "1.2.0",
          "state": {
            "_view_name": "LayoutView",
            "grid_template_rows": null,
            "right": null,
            "justify_content": null,
            "_view_module": "@jupyter-widgets/base",
            "overflow": null,
            "_model_module_version": "1.2.0",
            "_view_count": null,
            "flex_flow": null,
            "width": null,
            "min_width": null,
            "border": null,
            "align_items": null,
            "bottom": null,
            "_model_module": "@jupyter-widgets/base",
            "top": null,
            "grid_column": null,
            "overflow_y": null,
            "overflow_x": null,
            "grid_auto_flow": null,
            "grid_area": null,
            "grid_template_columns": null,
            "flex": null,
            "_model_name": "LayoutModel",
            "justify_items": null,
            "grid_row": null,
            "max_height": null,
            "align_content": null,
            "visibility": null,
            "align_self": null,
            "height": null,
            "min_height": null,
            "padding": null,
            "grid_auto_rows": null,
            "grid_gap": null,
            "max_width": null,
            "order": null,
            "_view_module_version": "1.2.0",
            "grid_template_areas": null,
            "object_position": null,
            "object_fit": null,
            "grid_auto_columns": null,
            "margin": null,
            "display": null,
            "left": null
          }
        },
        "dcfe6e7c37ff432289fa7769b15bb721": {
          "model_module": "@jupyter-widgets/controls",
          "model_name": "ProgressStyleModel",
          "model_module_version": "1.5.0",
          "state": {
            "_view_name": "StyleView",
            "_model_name": "ProgressStyleModel",
            "description_width": "",
            "_view_module": "@jupyter-widgets/base",
            "_model_module_version": "1.5.0",
            "_view_count": null,
            "_view_module_version": "1.2.0",
            "bar_color": null,
            "_model_module": "@jupyter-widgets/controls"
          }
        },
        "b7d14d04f8fc4745b180cd8d0b90eaa9": {
          "model_module": "@jupyter-widgets/base",
          "model_name": "LayoutModel",
          "model_module_version": "1.2.0",
          "state": {
            "_view_name": "LayoutView",
            "grid_template_rows": null,
            "right": null,
            "justify_content": null,
            "_view_module": "@jupyter-widgets/base",
            "overflow": null,
            "_model_module_version": "1.2.0",
            "_view_count": null,
            "flex_flow": null,
            "width": null,
            "min_width": null,
            "border": null,
            "align_items": null,
            "bottom": null,
            "_model_module": "@jupyter-widgets/base",
            "top": null,
            "grid_column": null,
            "overflow_y": null,
            "overflow_x": null,
            "grid_auto_flow": null,
            "grid_area": null,
            "grid_template_columns": null,
            "flex": null,
            "_model_name": "LayoutModel",
            "justify_items": null,
            "grid_row": null,
            "max_height": null,
            "align_content": null,
            "visibility": null,
            "align_self": null,
            "height": null,
            "min_height": null,
            "padding": null,
            "grid_auto_rows": null,
            "grid_gap": null,
            "max_width": null,
            "order": null,
            "_view_module_version": "1.2.0",
            "grid_template_areas": null,
            "object_position": null,
            "object_fit": null,
            "grid_auto_columns": null,
            "margin": null,
            "display": null,
            "left": null
          }
        },
        "37c8038bd3894281bea6db2c8d8126ed": {
          "model_module": "@jupyter-widgets/controls",
          "model_name": "DescriptionStyleModel",
          "model_module_version": "1.5.0",
          "state": {
            "_view_name": "StyleView",
            "_model_name": "DescriptionStyleModel",
            "description_width": "",
            "_view_module": "@jupyter-widgets/base",
            "_model_module_version": "1.5.0",
            "_view_count": null,
            "_view_module_version": "1.2.0",
            "_model_module": "@jupyter-widgets/controls"
          }
        },
        "939008c64ca54103b141b3fa95a9e4b0": {
          "model_module": "@jupyter-widgets/base",
          "model_name": "LayoutModel",
          "model_module_version": "1.2.0",
          "state": {
            "_view_name": "LayoutView",
            "grid_template_rows": null,
            "right": null,
            "justify_content": null,
            "_view_module": "@jupyter-widgets/base",
            "overflow": null,
            "_model_module_version": "1.2.0",
            "_view_count": null,
            "flex_flow": null,
            "width": null,
            "min_width": null,
            "border": null,
            "align_items": null,
            "bottom": null,
            "_model_module": "@jupyter-widgets/base",
            "top": null,
            "grid_column": null,
            "overflow_y": null,
            "overflow_x": null,
            "grid_auto_flow": null,
            "grid_area": null,
            "grid_template_columns": null,
            "flex": null,
            "_model_name": "LayoutModel",
            "justify_items": null,
            "grid_row": null,
            "max_height": null,
            "align_content": null,
            "visibility": null,
            "align_self": null,
            "height": null,
            "min_height": null,
            "padding": null,
            "grid_auto_rows": null,
            "grid_gap": null,
            "max_width": null,
            "order": null,
            "_view_module_version": "1.2.0",
            "grid_template_areas": null,
            "object_position": null,
            "object_fit": null,
            "grid_auto_columns": null,
            "margin": null,
            "display": null,
            "left": null
          }
        },
        "a7f537da2d3e42d1b905f0f7059dbb9c": {
          "model_module": "@jupyter-widgets/controls",
          "model_name": "HBoxModel",
          "model_module_version": "1.5.0",
          "state": {
            "_view_name": "HBoxView",
            "_dom_classes": [],
            "_model_name": "HBoxModel",
            "_view_module": "@jupyter-widgets/controls",
            "_model_module_version": "1.5.0",
            "_view_count": null,
            "_view_module_version": "1.5.0",
            "box_style": "",
            "layout": "IPY_MODEL_54efffb3da354137b152989e9126a699",
            "_model_module": "@jupyter-widgets/controls",
            "children": [
              "IPY_MODEL_4cb33652f92f4c0e8eb23765c3787cde",
              "IPY_MODEL_002c66786719420f823a94559be6bdf1",
              "IPY_MODEL_70b98497644640e388dbb5d0fb3b58ac"
            ]
          }
        },
        "54efffb3da354137b152989e9126a699": {
          "model_module": "@jupyter-widgets/base",
          "model_name": "LayoutModel",
          "model_module_version": "1.2.0",
          "state": {
            "_view_name": "LayoutView",
            "grid_template_rows": null,
            "right": null,
            "justify_content": null,
            "_view_module": "@jupyter-widgets/base",
            "overflow": null,
            "_model_module_version": "1.2.0",
            "_view_count": null,
            "flex_flow": null,
            "width": null,
            "min_width": null,
            "border": null,
            "align_items": null,
            "bottom": null,
            "_model_module": "@jupyter-widgets/base",
            "top": null,
            "grid_column": null,
            "overflow_y": null,
            "overflow_x": null,
            "grid_auto_flow": null,
            "grid_area": null,
            "grid_template_columns": null,
            "flex": null,
            "_model_name": "LayoutModel",
            "justify_items": null,
            "grid_row": null,
            "max_height": null,
            "align_content": null,
            "visibility": null,
            "align_self": null,
            "height": null,
            "min_height": null,
            "padding": null,
            "grid_auto_rows": null,
            "grid_gap": null,
            "max_width": null,
            "order": null,
            "_view_module_version": "1.2.0",
            "grid_template_areas": null,
            "object_position": null,
            "object_fit": null,
            "grid_auto_columns": null,
            "margin": null,
            "display": null,
            "left": null
          }
        },
        "4cb33652f92f4c0e8eb23765c3787cde": {
          "model_module": "@jupyter-widgets/controls",
          "model_name": "HTMLModel",
          "model_module_version": "1.5.0",
          "state": {
            "_view_name": "HTMLView",
            "style": "IPY_MODEL_fb46f29f26d44675bad5679299ef745e",
            "_dom_classes": [],
            "description": "",
            "_model_name": "HTMLModel",
            "placeholder": "​",
            "_view_module": "@jupyter-widgets/controls",
            "_model_module_version": "1.5.0",
            "value": "100%",
            "_view_count": null,
            "_view_module_version": "1.5.0",
            "description_tooltip": null,
            "_model_module": "@jupyter-widgets/controls",
            "layout": "IPY_MODEL_fc4f41526d9745b0a91ff2cadb672b72"
          }
        },
        "002c66786719420f823a94559be6bdf1": {
          "model_module": "@jupyter-widgets/controls",
          "model_name": "FloatProgressModel",
          "model_module_version": "1.5.0",
          "state": {
            "_view_name": "ProgressView",
            "style": "IPY_MODEL_f5423831fd2242d09903ff9bb875e041",
            "_dom_classes": [],
            "description": "",
            "_model_name": "FloatProgressModel",
            "bar_style": "success",
            "max": 27956,
            "_view_module": "@jupyter-widgets/controls",
            "_model_module_version": "1.5.0",
            "value": 27956,
            "_view_count": null,
            "_view_module_version": "1.5.0",
            "orientation": "horizontal",
            "min": 0,
            "description_tooltip": null,
            "_model_module": "@jupyter-widgets/controls",
            "layout": "IPY_MODEL_cfa03a70112b432d99aa2eeb271e685a"
          }
        },
        "70b98497644640e388dbb5d0fb3b58ac": {
          "model_module": "@jupyter-widgets/controls",
          "model_name": "HTMLModel",
          "model_module_version": "1.5.0",
          "state": {
            "_view_name": "HTMLView",
            "style": "IPY_MODEL_c5e4c51dbfcb49a2be7a54ddc80e1658",
            "_dom_classes": [],
            "description": "",
            "_model_name": "HTMLModel",
            "placeholder": "​",
            "_view_module": "@jupyter-widgets/controls",
            "_model_module_version": "1.5.0",
            "value": " 27956/27956 [00:20&lt;00:00, 1510.02it/s]",
            "_view_count": null,
            "_view_module_version": "1.5.0",
            "description_tooltip": null,
            "_model_module": "@jupyter-widgets/controls",
            "layout": "IPY_MODEL_f5ad0125beb84f95a1083c5118835e18"
          }
        },
        "fb46f29f26d44675bad5679299ef745e": {
          "model_module": "@jupyter-widgets/controls",
          "model_name": "DescriptionStyleModel",
          "model_module_version": "1.5.0",
          "state": {
            "_view_name": "StyleView",
            "_model_name": "DescriptionStyleModel",
            "description_width": "",
            "_view_module": "@jupyter-widgets/base",
            "_model_module_version": "1.5.0",
            "_view_count": null,
            "_view_module_version": "1.2.0",
            "_model_module": "@jupyter-widgets/controls"
          }
        },
        "fc4f41526d9745b0a91ff2cadb672b72": {
          "model_module": "@jupyter-widgets/base",
          "model_name": "LayoutModel",
          "model_module_version": "1.2.0",
          "state": {
            "_view_name": "LayoutView",
            "grid_template_rows": null,
            "right": null,
            "justify_content": null,
            "_view_module": "@jupyter-widgets/base",
            "overflow": null,
            "_model_module_version": "1.2.0",
            "_view_count": null,
            "flex_flow": null,
            "width": null,
            "min_width": null,
            "border": null,
            "align_items": null,
            "bottom": null,
            "_model_module": "@jupyter-widgets/base",
            "top": null,
            "grid_column": null,
            "overflow_y": null,
            "overflow_x": null,
            "grid_auto_flow": null,
            "grid_area": null,
            "grid_template_columns": null,
            "flex": null,
            "_model_name": "LayoutModel",
            "justify_items": null,
            "grid_row": null,
            "max_height": null,
            "align_content": null,
            "visibility": null,
            "align_self": null,
            "height": null,
            "min_height": null,
            "padding": null,
            "grid_auto_rows": null,
            "grid_gap": null,
            "max_width": null,
            "order": null,
            "_view_module_version": "1.2.0",
            "grid_template_areas": null,
            "object_position": null,
            "object_fit": null,
            "grid_auto_columns": null,
            "margin": null,
            "display": null,
            "left": null
          }
        },
        "f5423831fd2242d09903ff9bb875e041": {
          "model_module": "@jupyter-widgets/controls",
          "model_name": "ProgressStyleModel",
          "model_module_version": "1.5.0",
          "state": {
            "_view_name": "StyleView",
            "_model_name": "ProgressStyleModel",
            "description_width": "",
            "_view_module": "@jupyter-widgets/base",
            "_model_module_version": "1.5.0",
            "_view_count": null,
            "_view_module_version": "1.2.0",
            "bar_color": null,
            "_model_module": "@jupyter-widgets/controls"
          }
        },
        "cfa03a70112b432d99aa2eeb271e685a": {
          "model_module": "@jupyter-widgets/base",
          "model_name": "LayoutModel",
          "model_module_version": "1.2.0",
          "state": {
            "_view_name": "LayoutView",
            "grid_template_rows": null,
            "right": null,
            "justify_content": null,
            "_view_module": "@jupyter-widgets/base",
            "overflow": null,
            "_model_module_version": "1.2.0",
            "_view_count": null,
            "flex_flow": null,
            "width": null,
            "min_width": null,
            "border": null,
            "align_items": null,
            "bottom": null,
            "_model_module": "@jupyter-widgets/base",
            "top": null,
            "grid_column": null,
            "overflow_y": null,
            "overflow_x": null,
            "grid_auto_flow": null,
            "grid_area": null,
            "grid_template_columns": null,
            "flex": null,
            "_model_name": "LayoutModel",
            "justify_items": null,
            "grid_row": null,
            "max_height": null,
            "align_content": null,
            "visibility": null,
            "align_self": null,
            "height": null,
            "min_height": null,
            "padding": null,
            "grid_auto_rows": null,
            "grid_gap": null,
            "max_width": null,
            "order": null,
            "_view_module_version": "1.2.0",
            "grid_template_areas": null,
            "object_position": null,
            "object_fit": null,
            "grid_auto_columns": null,
            "margin": null,
            "display": null,
            "left": null
          }
        },
        "c5e4c51dbfcb49a2be7a54ddc80e1658": {
          "model_module": "@jupyter-widgets/controls",
          "model_name": "DescriptionStyleModel",
          "model_module_version": "1.5.0",
          "state": {
            "_view_name": "StyleView",
            "_model_name": "DescriptionStyleModel",
            "description_width": "",
            "_view_module": "@jupyter-widgets/base",
            "_model_module_version": "1.5.0",
            "_view_count": null,
            "_view_module_version": "1.2.0",
            "_model_module": "@jupyter-widgets/controls"
          }
        },
        "f5ad0125beb84f95a1083c5118835e18": {
          "model_module": "@jupyter-widgets/base",
          "model_name": "LayoutModel",
          "model_module_version": "1.2.0",
          "state": {
            "_view_name": "LayoutView",
            "grid_template_rows": null,
            "right": null,
            "justify_content": null,
            "_view_module": "@jupyter-widgets/base",
            "overflow": null,
            "_model_module_version": "1.2.0",
            "_view_count": null,
            "flex_flow": null,
            "width": null,
            "min_width": null,
            "border": null,
            "align_items": null,
            "bottom": null,
            "_model_module": "@jupyter-widgets/base",
            "top": null,
            "grid_column": null,
            "overflow_y": null,
            "overflow_x": null,
            "grid_auto_flow": null,
            "grid_area": null,
            "grid_template_columns": null,
            "flex": null,
            "_model_name": "LayoutModel",
            "justify_items": null,
            "grid_row": null,
            "max_height": null,
            "align_content": null,
            "visibility": null,
            "align_self": null,
            "height": null,
            "min_height": null,
            "padding": null,
            "grid_auto_rows": null,
            "grid_gap": null,
            "max_width": null,
            "order": null,
            "_view_module_version": "1.2.0",
            "grid_template_areas": null,
            "object_position": null,
            "object_fit": null,
            "grid_auto_columns": null,
            "margin": null,
            "display": null,
            "left": null
          }
        }
      }
    }
  },
  "nbformat": 4,
  "nbformat_minor": 0
}